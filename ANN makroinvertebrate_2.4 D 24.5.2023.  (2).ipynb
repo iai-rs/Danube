{
 "cells": [
  {
   "cell_type": "code",
   "execution_count": 1,
   "id": "8a8001b3",
   "metadata": {},
   "outputs": [],
   "source": [
    "import pandas as pd\n",
    "import numpy as np\n",
    "import tensorflow as tf\n",
    "data = pd.read_csv(r\"C:\\Users\\ivana\\Downloads\\Ksenobiotici_makroinvertebrate.csv\",encoding='latin-1')"
   ]
  },
  {
   "cell_type": "code",
   "execution_count": 2,
   "id": "1caae0f6",
   "metadata": {},
   "outputs": [],
   "source": [
    "\n",
    "X = data.iloc[2:,[64,55,93,111,116,35,161,162]].values  \n",
    "y = data.iloc[2:,164].values \n",
    "X=X.astype(\"float32\")\n",
    "y=y.astype(\"float32\")"
   ]
  },
  {
   "cell_type": "code",
   "execution_count": 3,
   "id": "cff6a1f1",
   "metadata": {},
   "outputs": [
    {
     "data": {
      "text/plain": [
       "(106, 8)"
      ]
     },
     "execution_count": 3,
     "metadata": {},
     "output_type": "execute_result"
    }
   ],
   "source": [
    "\n",
    "X.shape"
   ]
  },
  {
   "cell_type": "code",
   "execution_count": 4,
   "id": "9d3698d6",
   "metadata": {},
   "outputs": [
    {
     "name": "stdout",
     "output_type": "stream",
     "text": [
      "[0.00340476 0.00340476 0.00210952 0.00210952 0.00183114 0.00183114\n",
      " 0.00050696 0.00050696 0.00100952 0.00100952 0.00086667 0.00086667\n",
      " 0.00104622 0.00104622 0.00083333 0.00083333 0.00155247 0.00155247\n",
      " 0.00125583 0.00125583 0.00197143 0.00197143 0.0013971  0.0013971\n",
      " 0.0014119  0.0014119  0.00186058 0.00186058 0.00466557 0.00466557\n",
      " 0.00173297 0.00173297 0.00152878 0.00152878 0.00163517 0.00163517\n",
      " 0.00104286 0.00104286 0.00115238 0.00115238 0.00171446 0.00171446\n",
      " 0.00153016 0.00153016 0.00101482 0.00101482 0.00128571 0.00128571\n",
      " 0.00160952 0.00160952 0.00111787 0.00111787 0.0009439  0.0009439\n",
      " 0.00130952 0.00130952 0.00151905 0.00151905 0.00190952 0.00190952\n",
      " 0.00134286 0.00134286 0.00566667 0.00566667 0.00144286 0.00144286\n",
      " 0.00168095 0.00168095 0.00177143 0.00177143 0.00204286 0.00204286\n",
      " 0.00216667 0.00216667 0.00189524 0.00189524 0.0018381  0.0018381\n",
      " 0.00171905 0.00171905 0.00141905 0.00141905 0.00203333 0.00203333\n",
      " 0.00307143 0.00307143 0.02109524 0.02109524 0.00187143 0.00187143\n",
      " 0.         0.         0.00273333 0.00273333 0.0018     0.0018\n",
      " 0.         0.         0.00232381 0.00232381 0.0039619  0.0039619\n",
      " 0.         0.         0.00134286 0.00134286]\n"
     ]
    },
    {
     "data": {
      "text/plain": [
       "(106,)"
      ]
     },
     "execution_count": 4,
     "metadata": {},
     "output_type": "execute_result"
    }
   ],
   "source": [
    "print (y)\n",
    "y.shape"
   ]
  },
  {
   "cell_type": "code",
   "execution_count": 5,
   "id": "12c6aea4",
   "metadata": {},
   "outputs": [
    {
     "data": {
      "text/plain": [
       "106"
      ]
     },
     "execution_count": 5,
     "metadata": {},
     "output_type": "execute_result"
    }
   ],
   "source": [
    "len(y)\n"
   ]
  },
  {
   "cell_type": "code",
   "execution_count": 6,
   "id": "ce980acd",
   "metadata": {},
   "outputs": [],
   "source": [
    "train_index=np.arange(0, X.shape[0])#train index svi indeksi\n",
    "test_index= np.random.randint(0, X.shape[0],10)#nasumice uzima 10 za test\n",
    "train_index=np.setdiff1d(train_index, test_index)# novi train indeks bez testa\n",
    "X_train=X[train_index,:]#sve vrednosti iz train seta\n",
    "X_test=X[test_index,:]\n",
    "y_train=y[train_index]\n",
    "y_test=y[test_index]"
   ]
  },
  {
   "cell_type": "code",
   "execution_count": 7,
   "id": "9a1b29a8",
   "metadata": {},
   "outputs": [
    {
     "data": {
      "text/plain": [
       "8"
      ]
     },
     "execution_count": 7,
     "metadata": {},
     "output_type": "execute_result"
    }
   ],
   "source": [
    "X.shape[1]\n"
   ]
  },
  {
   "cell_type": "code",
   "execution_count": 8,
   "id": "82a4a346",
   "metadata": {},
   "outputs": [
    {
     "name": "stdout",
     "output_type": "stream",
     "text": [
      "Epoch 1/200\n",
      "8/8 [==============================] - 0s 18ms/step - loss: 1.1847 - val_loss: 1.0492\n",
      "Epoch 2/200\n",
      "8/8 [==============================] - 0s 3ms/step - loss: 0.9719 - val_loss: 0.8386\n",
      "Epoch 3/200\n",
      "8/8 [==============================] - 0s 3ms/step - loss: 0.7618 - val_loss: 0.6299\n",
      "Epoch 4/200\n",
      "8/8 [==============================] - 0s 3ms/step - loss: 0.5538 - val_loss: 0.4235\n",
      "Epoch 5/200\n",
      "8/8 [==============================] - 0s 3ms/step - loss: 0.3452 - val_loss: 0.2168\n",
      "Epoch 6/200\n",
      "8/8 [==============================] - 0s 3ms/step - loss: 0.1391 - val_loss: 0.0464\n",
      "Epoch 7/200\n",
      "8/8 [==============================] - 0s 3ms/step - loss: 0.0532 - val_loss: 0.0885\n",
      "Epoch 8/200\n",
      "8/8 [==============================] - 0s 3ms/step - loss: 0.0667 - val_loss: 0.0414\n",
      "Epoch 9/200\n",
      "8/8 [==============================] - 0s 3ms/step - loss: 0.0408 - val_loss: 0.0494\n",
      "Epoch 10/200\n",
      "8/8 [==============================] - 0s 3ms/step - loss: 0.0374 - val_loss: 0.0369\n",
      "Epoch 11/200\n",
      "8/8 [==============================] - 0s 3ms/step - loss: 0.0305 - val_loss: 0.0342\n",
      "Epoch 12/200\n",
      "8/8 [==============================] - 0s 3ms/step - loss: 0.0267 - val_loss: 0.0297\n",
      "Epoch 13/200\n",
      "8/8 [==============================] - 0s 3ms/step - loss: 0.0213 - val_loss: 0.0290\n",
      "Epoch 14/200\n",
      "8/8 [==============================] - 0s 3ms/step - loss: 0.0206 - val_loss: 0.0258\n",
      "Epoch 15/200\n",
      "8/8 [==============================] - 0s 3ms/step - loss: 0.0183 - val_loss: 0.0271\n",
      "Epoch 16/200\n",
      "8/8 [==============================] - 0s 3ms/step - loss: 0.0156 - val_loss: 0.0240\n",
      "Epoch 17/200\n",
      "8/8 [==============================] - 0s 3ms/step - loss: 0.0135 - val_loss: 0.0236\n",
      "Epoch 18/200\n",
      "8/8 [==============================] - 0s 3ms/step - loss: 0.0125 - val_loss: 0.0233\n",
      "Epoch 19/200\n",
      "8/8 [==============================] - 0s 3ms/step - loss: 0.0116 - val_loss: 0.0248\n",
      "Epoch 20/200\n",
      "8/8 [==============================] - 0s 3ms/step - loss: 0.0114 - val_loss: 0.0236\n",
      "Epoch 21/200\n",
      "8/8 [==============================] - 0s 3ms/step - loss: 0.0110 - val_loss: 0.0252\n",
      "Epoch 22/200\n",
      "8/8 [==============================] - 0s 3ms/step - loss: 0.0103 - val_loss: 0.0229\n",
      "Epoch 23/200\n",
      "8/8 [==============================] - 0s 3ms/step - loss: 0.0091 - val_loss: 0.0239\n",
      "Epoch 24/200\n",
      "8/8 [==============================] - 0s 3ms/step - loss: 0.0085 - val_loss: 0.0220\n",
      "Epoch 25/200\n",
      "8/8 [==============================] - 0s 3ms/step - loss: 0.0082 - val_loss: 0.0224\n",
      "Epoch 26/200\n",
      "8/8 [==============================] - 0s 3ms/step - loss: 0.0078 - val_loss: 0.0221\n",
      "Epoch 27/200\n",
      "8/8 [==============================] - 0s 3ms/step - loss: 0.0077 - val_loss: 0.0253\n",
      "Epoch 28/200\n",
      "8/8 [==============================] - 0s 3ms/step - loss: 0.0069 - val_loss: 0.0219\n",
      "Epoch 29/200\n",
      "8/8 [==============================] - 0s 3ms/step - loss: 0.0066 - val_loss: 0.0219\n",
      "Epoch 30/200\n",
      "8/8 [==============================] - 0s 3ms/step - loss: 0.0069 - val_loss: 0.0214\n",
      "Epoch 31/200\n",
      "8/8 [==============================] - 0s 3ms/step - loss: 0.0066 - val_loss: 0.0218\n",
      "Epoch 32/200\n",
      "8/8 [==============================] - 0s 3ms/step - loss: 0.0066 - val_loss: 0.0212\n",
      "Epoch 33/200\n",
      "8/8 [==============================] - 0s 3ms/step - loss: 0.0074 - val_loss: 0.0207\n",
      "Epoch 34/200\n",
      "8/8 [==============================] - 0s 3ms/step - loss: 0.0067 - val_loss: 0.0204\n",
      "Epoch 35/200\n",
      "8/8 [==============================] - 0s 3ms/step - loss: 0.0055 - val_loss: 0.0210\n",
      "Epoch 36/200\n",
      "8/8 [==============================] - 0s 3ms/step - loss: 0.0068 - val_loss: 0.0199\n",
      "Epoch 37/200\n",
      "8/8 [==============================] - 0s 3ms/step - loss: 0.0058 - val_loss: 0.0195\n",
      "Epoch 38/200\n",
      "8/8 [==============================] - 0s 3ms/step - loss: 0.0055 - val_loss: 0.0202\n",
      "Epoch 39/200\n",
      "8/8 [==============================] - 0s 3ms/step - loss: 0.0047 - val_loss: 0.0213\n",
      "Epoch 40/200\n",
      "8/8 [==============================] - 0s 3ms/step - loss: 0.0055 - val_loss: 0.0196\n",
      "Epoch 41/200\n",
      "8/8 [==============================] - 0s 3ms/step - loss: 0.0046 - val_loss: 0.0197\n",
      "Epoch 42/200\n",
      "8/8 [==============================] - 0s 3ms/step - loss: 0.0042 - val_loss: 0.0198\n",
      "Epoch 43/200\n",
      "8/8 [==============================] - 0s 3ms/step - loss: 0.0040 - val_loss: 0.0203\n",
      "Epoch 44/200\n",
      "8/8 [==============================] - 0s 3ms/step - loss: 0.0030 - val_loss: 0.0196\n",
      "Epoch 45/200\n",
      "8/8 [==============================] - 0s 3ms/step - loss: 0.0033 - val_loss: 0.0201\n",
      "Epoch 46/200\n",
      "8/8 [==============================] - 0s 3ms/step - loss: 0.0032 - val_loss: 0.0202\n",
      "Epoch 47/200\n",
      "8/8 [==============================] - 0s 3ms/step - loss: 0.0035 - val_loss: 0.0213\n",
      "Epoch 48/200\n",
      "8/8 [==============================] - 0s 4ms/step - loss: 0.0038 - val_loss: 0.0199\n",
      "Epoch 49/200\n",
      "8/8 [==============================] - 0s 3ms/step - loss: 0.0044 - val_loss: 0.0208\n",
      "Epoch 50/200\n",
      "8/8 [==============================] - 0s 3ms/step - loss: 0.0047 - val_loss: 0.0191\n",
      "Epoch 51/200\n",
      "8/8 [==============================] - 0s 3ms/step - loss: 0.0039 - val_loss: 0.0215\n",
      "Epoch 52/200\n",
      "8/8 [==============================] - 0s 3ms/step - loss: 0.0038 - val_loss: 0.0198\n",
      "Epoch 53/200\n",
      "8/8 [==============================] - 0s 3ms/step - loss: 0.0041 - val_loss: 0.0210\n",
      "Epoch 54/200\n",
      "8/8 [==============================] - 0s 3ms/step - loss: 0.0050 - val_loss: 0.0210\n",
      "Epoch 55/200\n",
      "8/8 [==============================] - 0s 3ms/step - loss: 0.0052 - val_loss: 0.0198\n",
      "Epoch 56/200\n",
      "8/8 [==============================] - 0s 3ms/step - loss: 0.0031 - val_loss: 0.0210\n",
      "Epoch 57/200\n",
      "8/8 [==============================] - 0s 3ms/step - loss: 0.0035 - val_loss: 0.0197\n",
      "Epoch 58/200\n",
      "8/8 [==============================] - 0s 2ms/step - loss: 0.0041 - val_loss: 0.0198\n",
      "Epoch 59/200\n",
      "8/8 [==============================] - 0s 4ms/step - loss: 0.0029 - val_loss: 0.0198\n",
      "Epoch 60/200\n",
      "8/8 [==============================] - 0s 3ms/step - loss: 0.0025 - val_loss: 0.0195\n",
      "Epoch 61/200\n",
      "8/8 [==============================] - 0s 3ms/step - loss: 0.0020 - val_loss: 0.0197\n",
      "Epoch 62/200\n",
      "8/8 [==============================] - 0s 3ms/step - loss: 0.0022 - val_loss: 0.0188\n",
      "Epoch 63/200\n",
      "8/8 [==============================] - 0s 3ms/step - loss: 0.0029 - val_loss: 0.0194\n",
      "Epoch 64/200\n",
      "8/8 [==============================] - 0s 3ms/step - loss: 0.0035 - val_loss: 0.0190\n",
      "Epoch 65/200\n",
      "8/8 [==============================] - 0s 3ms/step - loss: 0.0036 - val_loss: 0.0185\n",
      "Epoch 66/200\n",
      "8/8 [==============================] - 0s 3ms/step - loss: 0.0030 - val_loss: 0.0212\n",
      "Epoch 67/200\n",
      "8/8 [==============================] - 0s 3ms/step - loss: 0.0035 - val_loss: 0.0187\n",
      "Epoch 68/200\n",
      "8/8 [==============================] - 0s 3ms/step - loss: 0.0021 - val_loss: 0.0189\n",
      "Epoch 69/200\n",
      "8/8 [==============================] - 0s 3ms/step - loss: 0.0021 - val_loss: 0.0225\n",
      "Epoch 70/200\n",
      "8/8 [==============================] - 0s 3ms/step - loss: 0.0034 - val_loss: 0.0190\n",
      "Epoch 71/200\n",
      "8/8 [==============================] - 0s 3ms/step - loss: 0.0021 - val_loss: 0.0191\n",
      "Epoch 72/200\n",
      "8/8 [==============================] - 0s 3ms/step - loss: 0.0026 - val_loss: 0.0194\n",
      "Epoch 73/200\n",
      "8/8 [==============================] - 0s 3ms/step - loss: 0.0036 - val_loss: 0.0219\n",
      "Epoch 74/200\n",
      "8/8 [==============================] - 0s 3ms/step - loss: 0.0042 - val_loss: 0.0192\n",
      "Epoch 75/200\n",
      "8/8 [==============================] - 0s 3ms/step - loss: 0.0029 - val_loss: 0.0197\n",
      "Epoch 76/200\n",
      "8/8 [==============================] - 0s 3ms/step - loss: 0.0021 - val_loss: 0.0199\n",
      "Epoch 77/200\n",
      "8/8 [==============================] - 0s 4ms/step - loss: 0.0027 - val_loss: 0.0182\n",
      "Epoch 78/200\n",
      "8/8 [==============================] - 0s 3ms/step - loss: 0.0023 - val_loss: 0.0188\n",
      "Epoch 79/200\n",
      "8/8 [==============================] - 0s 3ms/step - loss: 0.0025 - val_loss: 0.0187\n",
      "Epoch 80/200\n",
      "8/8 [==============================] - 0s 3ms/step - loss: 0.0029 - val_loss: 0.0201\n",
      "Epoch 81/200\n",
      "8/8 [==============================] - 0s 3ms/step - loss: 0.0025 - val_loss: 0.0192\n",
      "Epoch 82/200\n",
      "8/8 [==============================] - 0s 3ms/step - loss: 0.0046 - val_loss: 0.0185\n",
      "Epoch 83/200\n",
      "8/8 [==============================] - 0s 3ms/step - loss: 0.0028 - val_loss: 0.0185\n",
      "Epoch 84/200\n"
     ]
    },
    {
     "name": "stdout",
     "output_type": "stream",
     "text": [
      "8/8 [==============================] - 0s 3ms/step - loss: 0.0036 - val_loss: 0.0194\n",
      "Epoch 85/200\n",
      "8/8 [==============================] - 0s 4ms/step - loss: 0.0033 - val_loss: 0.0180\n",
      "Epoch 86/200\n",
      "8/8 [==============================] - 0s 3ms/step - loss: 0.0032 - val_loss: 0.0179\n",
      "Epoch 87/200\n",
      "8/8 [==============================] - 0s 3ms/step - loss: 0.0040 - val_loss: 0.0204\n",
      "Epoch 88/200\n",
      "8/8 [==============================] - 0s 3ms/step - loss: 0.0030 - val_loss: 0.0190\n",
      "Epoch 89/200\n",
      "8/8 [==============================] - 0s 3ms/step - loss: 0.0040 - val_loss: 0.0186\n",
      "Epoch 90/200\n",
      "8/8 [==============================] - 0s 3ms/step - loss: 0.0032 - val_loss: 0.0205\n",
      "Epoch 91/200\n",
      "8/8 [==============================] - 0s 3ms/step - loss: 0.0054 - val_loss: 0.0214\n",
      "Epoch 92/200\n",
      "8/8 [==============================] - 0s 3ms/step - loss: 0.0050 - val_loss: 0.0199\n",
      "Epoch 93/200\n",
      "8/8 [==============================] - 0s 3ms/step - loss: 0.0024 - val_loss: 0.0178\n",
      "Epoch 94/200\n",
      "8/8 [==============================] - 0s 3ms/step - loss: 0.0021 - val_loss: 0.0196\n",
      "Epoch 95/200\n",
      "8/8 [==============================] - 0s 3ms/step - loss: 0.0021 - val_loss: 0.0190\n",
      "Epoch 96/200\n",
      "8/8 [==============================] - 0s 3ms/step - loss: 0.0027 - val_loss: 0.0182\n",
      "Epoch 97/200\n",
      "8/8 [==============================] - 0s 3ms/step - loss: 0.0041 - val_loss: 0.0189\n",
      "Epoch 98/200\n",
      "8/8 [==============================] - 0s 3ms/step - loss: 0.0053 - val_loss: 0.0167\n",
      "Epoch 99/200\n",
      "8/8 [==============================] - 0s 3ms/step - loss: 0.0025 - val_loss: 0.0184\n",
      "Epoch 100/200\n",
      "8/8 [==============================] - 0s 3ms/step - loss: 0.0020 - val_loss: 0.0176\n",
      "Epoch 101/200\n",
      "8/8 [==============================] - 0s 3ms/step - loss: 0.0024 - val_loss: 0.0176\n",
      "Epoch 102/200\n",
      "8/8 [==============================] - 0s 3ms/step - loss: 0.0033 - val_loss: 0.0182\n",
      "Epoch 103/200\n",
      "8/8 [==============================] - 0s 3ms/step - loss: 0.0028 - val_loss: 0.0181\n",
      "Epoch 104/200\n",
      "8/8 [==============================] - 0s 3ms/step - loss: 0.0026 - val_loss: 0.0178\n",
      "Epoch 105/200\n",
      "8/8 [==============================] - 0s 3ms/step - loss: 0.0032 - val_loss: 0.0204\n",
      "Epoch 106/200\n",
      "8/8 [==============================] - 0s 3ms/step - loss: 0.0055 - val_loss: 0.0186\n",
      "Epoch 107/200\n",
      "8/8 [==============================] - 0s 3ms/step - loss: 0.0025 - val_loss: 0.0175\n",
      "Epoch 108/200\n",
      "8/8 [==============================] - 0s 3ms/step - loss: 0.0020 - val_loss: 0.0169\n",
      "Epoch 109/200\n",
      "8/8 [==============================] - 0s 3ms/step - loss: 0.0020 - val_loss: 0.0174\n",
      "Epoch 110/200\n",
      "8/8 [==============================] - 0s 3ms/step - loss: 0.0028 - val_loss: 0.0184\n",
      "Epoch 111/200\n",
      "8/8 [==============================] - 0s 3ms/step - loss: 0.0044 - val_loss: 0.0188\n",
      "Epoch 112/200\n",
      "8/8 [==============================] - 0s 3ms/step - loss: 0.0036 - val_loss: 0.0188\n",
      "Epoch 113/200\n",
      "8/8 [==============================] - 0s 3ms/step - loss: 0.0035 - val_loss: 0.0182\n",
      "Epoch 114/200\n",
      "8/8 [==============================] - 0s 3ms/step - loss: 0.0026 - val_loss: 0.0179\n",
      "Epoch 115/200\n",
      "8/8 [==============================] - 0s 3ms/step - loss: 0.0028 - val_loss: 0.0182\n",
      "Epoch 116/200\n",
      "8/8 [==============================] - 0s 3ms/step - loss: 0.0020 - val_loss: 0.0174\n",
      "Epoch 117/200\n",
      "8/8 [==============================] - 0s 3ms/step - loss: 0.0020 - val_loss: 0.0173\n",
      "Epoch 118/200\n",
      "8/8 [==============================] - 0s 2ms/step - loss: 0.0028 - val_loss: 0.0166\n",
      "Epoch 119/200\n",
      "8/8 [==============================] - 0s 3ms/step - loss: 0.0036 - val_loss: 0.0182\n",
      "Epoch 120/200\n",
      "8/8 [==============================] - 0s 3ms/step - loss: 0.0033 - val_loss: 0.0179\n",
      "Epoch 121/200\n",
      "8/8 [==============================] - 0s 3ms/step - loss: 0.0029 - val_loss: 0.0160\n",
      "Epoch 122/200\n",
      "8/8 [==============================] - 0s 3ms/step - loss: 0.0031 - val_loss: 0.0166\n",
      "Epoch 123/200\n",
      "8/8 [==============================] - 0s 3ms/step - loss: 0.0038 - val_loss: 0.0156\n",
      "Epoch 124/200\n",
      "8/8 [==============================] - 0s 3ms/step - loss: 0.0048 - val_loss: 0.0162\n",
      "Epoch 125/200\n",
      "8/8 [==============================] - 0s 3ms/step - loss: 0.0041 - val_loss: 0.0185\n",
      "Epoch 126/200\n",
      "8/8 [==============================] - 0s 3ms/step - loss: 0.0039 - val_loss: 0.0170\n",
      "Epoch 127/200\n",
      "8/8 [==============================] - 0s 3ms/step - loss: 0.0025 - val_loss: 0.0164\n",
      "Epoch 128/200\n",
      "8/8 [==============================] - 0s 3ms/step - loss: 0.0021 - val_loss: 0.0168\n",
      "Epoch 129/200\n",
      "8/8 [==============================] - 0s 3ms/step - loss: 0.0020 - val_loss: 0.0163\n",
      "Epoch 130/200\n",
      "8/8 [==============================] - 0s 3ms/step - loss: 0.0027 - val_loss: 0.0154\n",
      "Epoch 131/200\n",
      "8/8 [==============================] - 0s 3ms/step - loss: 0.0025 - val_loss: 0.0156\n",
      "Epoch 132/200\n",
      "8/8 [==============================] - 0s 3ms/step - loss: 0.0020 - val_loss: 0.0156\n",
      "Epoch 133/200\n",
      "8/8 [==============================] - 0s 3ms/step - loss: 0.0020 - val_loss: 0.0153\n",
      "Epoch 134/200\n",
      "8/8 [==============================] - 0s 3ms/step - loss: 0.0020 - val_loss: 0.0152\n",
      "Epoch 135/200\n",
      "8/8 [==============================] - 0s 3ms/step - loss: 0.0020 - val_loss: 0.0150\n",
      "Epoch 136/200\n",
      "8/8 [==============================] - 0s 3ms/step - loss: 0.0034 - val_loss: 0.0181\n",
      "Epoch 137/200\n",
      "8/8 [==============================] - 0s 3ms/step - loss: 0.0026 - val_loss: 0.0154\n",
      "Epoch 138/200\n",
      "8/8 [==============================] - 0s 3ms/step - loss: 0.0025 - val_loss: 0.0151\n",
      "Epoch 139/200\n",
      "8/8 [==============================] - 0s 3ms/step - loss: 0.0022 - val_loss: 0.0161\n",
      "Epoch 140/200\n",
      "8/8 [==============================] - 0s 2ms/step - loss: 0.0030 - val_loss: 0.0156\n",
      "Epoch 141/200\n",
      "8/8 [==============================] - 0s 3ms/step - loss: 0.0040 - val_loss: 0.0149\n",
      "Epoch 142/200\n",
      "8/8 [==============================] - 0s 3ms/step - loss: 0.0019 - val_loss: 0.0150\n",
      "Epoch 143/200\n",
      "8/8 [==============================] - 0s 3ms/step - loss: 0.0019 - val_loss: 0.0148\n",
      "Epoch 144/200\n",
      "8/8 [==============================] - 0s 3ms/step - loss: 0.0018 - val_loss: 0.0148\n",
      "Epoch 145/200\n",
      "8/8 [==============================] - 0s 2ms/step - loss: 0.0022 - val_loss: 0.0152\n",
      "Epoch 146/200\n",
      "8/8 [==============================] - 0s 3ms/step - loss: 0.0023 - val_loss: 0.0144\n",
      "Epoch 147/200\n",
      "8/8 [==============================] - 0s 3ms/step - loss: 0.0017 - val_loss: 0.0146\n",
      "Epoch 148/200\n",
      "8/8 [==============================] - 0s 3ms/step - loss: 0.0022 - val_loss: 0.0162\n",
      "Epoch 149/200\n",
      "8/8 [==============================] - 0s 3ms/step - loss: 0.0067 - val_loss: 0.0148\n",
      "Epoch 150/200\n",
      "8/8 [==============================] - 0s 3ms/step - loss: 0.0054 - val_loss: 0.0148\n",
      "Epoch 151/200\n",
      "8/8 [==============================] - 0s 3ms/step - loss: 0.0030 - val_loss: 0.0144\n",
      "Epoch 152/200\n",
      "8/8 [==============================] - 0s 3ms/step - loss: 0.0021 - val_loss: 0.0151\n",
      "Epoch 153/200\n",
      "8/8 [==============================] - 0s 3ms/step - loss: 0.0019 - val_loss: 0.0145\n",
      "Epoch 154/200\n",
      "8/8 [==============================] - 0s 3ms/step - loss: 0.0021 - val_loss: 0.0154\n",
      "Epoch 155/200\n",
      "8/8 [==============================] - 0s 3ms/step - loss: 0.0017 - val_loss: 0.0147\n",
      "Epoch 156/200\n",
      "8/8 [==============================] - 0s 3ms/step - loss: 0.0016 - val_loss: 0.0142\n",
      "Epoch 157/200\n",
      "8/8 [==============================] - 0s 3ms/step - loss: 0.0014 - val_loss: 0.0144\n",
      "Epoch 158/200\n",
      "8/8 [==============================] - 0s 3ms/step - loss: 0.0014 - val_loss: 0.0138\n",
      "Epoch 159/200\n",
      "8/8 [==============================] - 0s 3ms/step - loss: 0.0024 - val_loss: 0.0177\n",
      "Epoch 160/200\n",
      "8/8 [==============================] - 0s 3ms/step - loss: 0.0063 - val_loss: 0.0148\n",
      "Epoch 161/200\n",
      "8/8 [==============================] - 0s 3ms/step - loss: 0.0028 - val_loss: 0.0153\n",
      "Epoch 162/200\n",
      "8/8 [==============================] - 0s 3ms/step - loss: 0.0040 - val_loss: 0.0144\n",
      "Epoch 163/200\n",
      "8/8 [==============================] - 0s 3ms/step - loss: 0.0022 - val_loss: 0.0146\n",
      "Epoch 164/200\n",
      "8/8 [==============================] - 0s 3ms/step - loss: 0.0019 - val_loss: 0.0137\n",
      "Epoch 165/200\n",
      "8/8 [==============================] - 0s 3ms/step - loss: 0.0027 - val_loss: 0.0158\n",
      "Epoch 166/200\n",
      "8/8 [==============================] - 0s 3ms/step - loss: 0.0029 - val_loss: 0.0144\n",
      "Epoch 167/200\n"
     ]
    },
    {
     "name": "stdout",
     "output_type": "stream",
     "text": [
      "8/8 [==============================] - 0s 3ms/step - loss: 0.0022 - val_loss: 0.0158\n",
      "Epoch 168/200\n",
      "8/8 [==============================] - 0s 3ms/step - loss: 0.0034 - val_loss: 0.0147\n",
      "Epoch 169/200\n",
      "8/8 [==============================] - 0s 3ms/step - loss: 0.0025 - val_loss: 0.0148\n",
      "Epoch 170/200\n",
      "8/8 [==============================] - 0s 3ms/step - loss: 0.0040 - val_loss: 0.0149\n",
      "Epoch 171/200\n",
      "8/8 [==============================] - 0s 3ms/step - loss: 0.0045 - val_loss: 0.0136\n",
      "Epoch 172/200\n",
      "8/8 [==============================] - 0s 2ms/step - loss: 0.0033 - val_loss: 0.0148\n",
      "Epoch 173/200\n",
      "8/8 [==============================] - 0s 3ms/step - loss: 0.0015 - val_loss: 0.0139\n",
      "Epoch 174/200\n",
      "8/8 [==============================] - 0s 3ms/step - loss: 0.0015 - val_loss: 0.0145\n",
      "Epoch 175/200\n",
      "8/8 [==============================] - 0s 3ms/step - loss: 0.0031 - val_loss: 0.0139\n",
      "Epoch 176/200\n",
      "8/8 [==============================] - 0s 3ms/step - loss: 0.0021 - val_loss: 0.0140\n",
      "Epoch 177/200\n",
      "8/8 [==============================] - 0s 3ms/step - loss: 0.0023 - val_loss: 0.0139\n",
      "Epoch 178/200\n",
      "8/8 [==============================] - 0s 3ms/step - loss: 0.0025 - val_loss: 0.0134\n",
      "Epoch 179/200\n",
      "8/8 [==============================] - 0s 3ms/step - loss: 0.0014 - val_loss: 0.0138\n",
      "Epoch 180/200\n",
      "8/8 [==============================] - 0s 3ms/step - loss: 0.0016 - val_loss: 0.0149\n",
      "Epoch 181/200\n",
      "8/8 [==============================] - 0s 2ms/step - loss: 0.0023 - val_loss: 0.0137\n",
      "Epoch 182/200\n",
      "8/8 [==============================] - 0s 3ms/step - loss: 0.0015 - val_loss: 0.0138\n",
      "Epoch 183/200\n",
      "8/8 [==============================] - 0s 3ms/step - loss: 0.0022 - val_loss: 0.0134\n",
      "Epoch 184/200\n",
      "8/8 [==============================] - 0s 3ms/step - loss: 0.0022 - val_loss: 0.0139\n",
      "Epoch 185/200\n",
      "8/8 [==============================] - 0s 3ms/step - loss: 0.0021 - val_loss: 0.0141\n",
      "Epoch 186/200\n",
      "8/8 [==============================] - 0s 3ms/step - loss: 0.0016 - val_loss: 0.0137\n",
      "Epoch 187/200\n",
      "8/8 [==============================] - 0s 3ms/step - loss: 0.0023 - val_loss: 0.0142\n",
      "Epoch 188/200\n",
      "8/8 [==============================] - 0s 3ms/step - loss: 0.0042 - val_loss: 0.0144\n",
      "Epoch 189/200\n",
      "8/8 [==============================] - 0s 3ms/step - loss: 0.0024 - val_loss: 0.0139\n",
      "Epoch 190/200\n",
      "8/8 [==============================] - 0s 3ms/step - loss: 0.0014 - val_loss: 0.0144\n",
      "Epoch 191/200\n",
      "8/8 [==============================] - 0s 3ms/step - loss: 0.0023 - val_loss: 0.0147\n",
      "Epoch 192/200\n",
      "8/8 [==============================] - 0s 3ms/step - loss: 0.0029 - val_loss: 0.0133\n",
      "Epoch 193/200\n",
      "8/8 [==============================] - 0s 3ms/step - loss: 0.0024 - val_loss: 0.0149\n",
      "Epoch 194/200\n",
      "8/8 [==============================] - 0s 3ms/step - loss: 0.0020 - val_loss: 0.0138\n",
      "Epoch 195/200\n",
      "8/8 [==============================] - 0s 4ms/step - loss: 0.0020 - val_loss: 0.0134\n",
      "Epoch 196/200\n",
      "8/8 [==============================] - 0s 3ms/step - loss: 0.0014 - val_loss: 0.0133\n",
      "Epoch 197/200\n",
      "8/8 [==============================] - 0s 3ms/step - loss: 0.0013 - val_loss: 0.0137\n",
      "Epoch 198/200\n",
      "8/8 [==============================] - 0s 3ms/step - loss: 0.0015 - val_loss: 0.0134\n",
      "Epoch 199/200\n",
      "8/8 [==============================] - 0s 3ms/step - loss: 0.0019 - val_loss: 0.0130\n",
      "Epoch 200/200\n",
      "8/8 [==============================] - 0s 3ms/step - loss: 0.0019 - val_loss: 0.0137\n"
     ]
    },
    {
     "data": {
      "image/png": "[encoded data removed]",
      "text/plain": [
       "<Figure size 432x288 with 1 Axes>"
      ]
     },
     "metadata": {
      "needs_background": "light"
     },
     "output_type": "display_data"
    }
   ],
   "source": [
    "import numpy as np\n",
    "from keras.models import Sequential\n",
    "from keras.layers import Dense\n",
    "import matplotlib.pyplot as plt\n",
    "\n",
    "# define the model\n",
    "model = Sequential()\n",
    "\n",
    "#model.add(Dense(8, activation='sigmoid'))\n",
    "model.add(Dense(12, activation='sigmoid'))\n",
    "model.add(Dense(30, activation='sigmoid'))\n",
    "model.add(Dense(1, activation='linear'))\n",
    "\n",
    "\n",
    "tf.random.set_seed(12345)\n",
    "model.compile(loss='mean_absolute_error', optimizer=tf.keras.optimizers.Adam(0.001))\n",
    "#learning rate 0.001\n",
    "\n",
    "history=model.fit(X_train, y_train, epochs=200, batch_size=10, verbose=1, validation_split = 0.2)\n",
    "\n",
    "hist = pd.DataFrame(history.history)#beleži obuku po epohama\n",
    "hist['epoch'] = history.epoch\n",
    "\n",
    "plt.plot(history.history['loss'], label='loss')\n",
    "plt.plot(history.history['val_loss'], label='val_loss')\n",
    "\n",
    "plt.xlabel('Epoch')\n",
    "plt.ylabel('Error [Bromacil]')\n",
    "plt.legend()\n",
    "plt.grid(True)"
   ]
  },
  {
   "cell_type": "code",
   "execution_count": 9,
   "id": "12b1af27",
   "metadata": {},
   "outputs": [
    {
     "data": {
      "text/plain": [
       "0.008920768275856972"
      ]
     },
     "execution_count": 9,
     "metadata": {},
     "output_type": "execute_result"
    }
   ],
   "source": [
    "history=model.evaluate(X_test, y_test, batch_size=10, verbose=0)\n",
    "history\n"
   ]
  },
  {
   "cell_type": "code",
   "execution_count": 10,
   "id": "52f0dd27",
   "metadata": {},
   "outputs": [
    {
     "data": {
      "text/plain": [
       "array([[1.000e+00, 4.220e+02, 0.000e+00, 0.000e+00, 0.000e+00, 0.000e+00,\n",
       "        0.000e+00, 0.000e+00],\n",
       "       [4.280e+02, 1.300e+01, 0.000e+00, 0.000e+00, 5.000e+00, 2.600e+01,\n",
       "        0.000e+00, 0.000e+00],\n",
       "       [5.900e+01, 4.170e+02, 0.000e+00, 1.000e+00, 0.000e+00, 2.000e+00,\n",
       "        0.000e+00, 0.000e+00],\n",
       "       [1.144e+03, 1.280e+02, 0.000e+00, 0.000e+00, 0.000e+00, 3.000e+00,\n",
       "        0.000e+00, 0.000e+00],\n",
       "       [7.500e+01, 4.300e+01, 0.000e+00, 8.700e+01, 1.000e+00, 1.000e+00,\n",
       "        1.000e+00, 0.000e+00],\n",
       "       [0.000e+00, 0.000e+00, 0.000e+00, 2.000e+00, 7.000e+00, 7.000e+00,\n",
       "        0.000e+00, 0.000e+00],\n",
       "       [1.900e+01, 7.000e+01, 3.100e+01, 0.000e+00, 0.000e+00, 1.900e+01,\n",
       "        0.000e+00, 0.000e+00],\n",
       "       [7.250e+02, 4.030e+02, 0.000e+00, 0.000e+00, 1.000e+00, 1.500e+01,\n",
       "        2.000e+00, 1.000e+00],\n",
       "       [0.000e+00, 0.000e+00, 0.000e+00, 0.000e+00, 0.000e+00, 1.100e+01,\n",
       "        0.000e+00, 0.000e+00],\n",
       "       [1.000e+00, 2.920e+02, 0.000e+00, 2.000e+00, 0.000e+00, 0.000e+00,\n",
       "        0.000e+00, 0.000e+00]], dtype=float32)"
      ]
     },
     "execution_count": 10,
     "metadata": {},
     "output_type": "execute_result"
    }
   ],
   "source": [
    "X_test\n",
    "\n"
   ]
  },
  {
   "cell_type": "code",
   "execution_count": 11,
   "id": "96e075ab",
   "metadata": {},
   "outputs": [
    {
     "data": {
      "text/plain": [
       "array([ 98,  34,  40,   3, 105,  22,  43,  32,  11, 103])"
      ]
     },
     "execution_count": 11,
     "metadata": {},
     "output_type": "execute_result"
    }
   ],
   "source": [
    "test_index"
   ]
  },
  {
   "cell_type": "code",
   "execution_count": 12,
   "id": "3abf8673",
   "metadata": {},
   "outputs": [
    {
     "data": {
      "text/plain": [
       "array([0., 0., 0., 0., 3., 1., 0., 0.], dtype=float32)"
      ]
     },
     "execution_count": 12,
     "metadata": {},
     "output_type": "execute_result"
    }
   ],
   "source": [
    "X[73,:]"
   ]
  },
  {
   "cell_type": "code",
   "execution_count": 13,
   "id": "09dfa67d",
   "metadata": {},
   "outputs": [
    {
     "name": "stdout",
     "output_type": "stream",
     "text": [
      "1/1 [==============================] - 0s 56ms/step\n"
     ]
    },
    {
     "data": {
      "text/plain": [
       "array([[ 0.0019596 ],\n",
       "       [ 0.0040297 ],\n",
       "       [ 0.00533712],\n",
       "       [ 0.00402954],\n",
       "       [-0.03945136],\n",
       "       [-0.02878468],\n",
       "       [ 0.00200136],\n",
       "       [ 0.00402954],\n",
       "       [ 0.00586618],\n",
       "       [ 0.00195881]], dtype=float32)"
      ]
     },
     "execution_count": 13,
     "metadata": {},
     "output_type": "execute_result"
    }
   ],
   "source": [
    "y_predict=model.predict(X_test)\n",
    "\n",
    "y_predict"
   ]
  },
  {
   "cell_type": "code",
   "execution_count": 14,
   "id": "5e62def0",
   "metadata": {},
   "outputs": [
    {
     "data": {
      "text/plain": [
       "array([0.00232381, 0.00163517, 0.00171446, 0.00210952, 0.00134286,\n",
       "       0.0013971 , 0.00153016, 0.00152878, 0.00086667, 0.        ],\n",
       "      dtype=float32)"
      ]
     },
     "execution_count": 14,
     "metadata": {},
     "output_type": "execute_result"
    }
   ],
   "source": [
    "y_test"
   ]
  },
  {
   "cell_type": "code",
   "execution_count": 15,
   "id": "b0a1bb82",
   "metadata": {},
   "outputs": [
    {
     "name": "stdout",
     "output_type": "stream",
     "text": [
      "1/1 [==============================] - 0s 80ms/step - loss: 0.0089\n"
     ]
    },
    {
     "data": {
      "text/plain": [
       "0.008920768275856972"
      ]
     },
     "execution_count": 15,
     "metadata": {},
     "output_type": "execute_result"
    }
   ],
   "source": [
    "y_predict=model.evaluate(X_test,y_test)\n",
    "\n",
    "y_predict #ukupna greška(MSE)za ceo obučavajući skup "
   ]
  },
  {
   "cell_type": "code",
   "execution_count": 16,
   "id": "8e7c439a",
   "metadata": {},
   "outputs": [
    {
     "data": {
      "text/plain": [
       "array([428.,  13.,   0.,   0.,   5.,  26.,   0.,   0.], dtype=float32)"
      ]
     },
     "execution_count": 16,
     "metadata": {},
     "output_type": "execute_result"
    }
   ],
   "source": [
    "X_test[1]"
   ]
  },
  {
   "cell_type": "code",
   "execution_count": 17,
   "id": "6a948528",
   "metadata": {},
   "outputs": [
    {
     "data": {
      "text/plain": [
       "0.008920768275856972"
      ]
     },
     "execution_count": 17,
     "metadata": {},
     "output_type": "execute_result"
    }
   ],
   "source": [
    "history"
   ]
  },
  {
   "cell_type": "code",
   "execution_count": 18,
   "id": "b0b13a2b",
   "metadata": {},
   "outputs": [
    {
     "data": {
      "text/plain": [
       "array([0.00232381, 0.00163517, 0.00171446, 0.00210952, 0.00134286,\n",
       "       0.0013971 , 0.00153016, 0.00152878, 0.00086667, 0.        ],\n",
       "      dtype=float32)"
      ]
     },
     "execution_count": 18,
     "metadata": {},
     "output_type": "execute_result"
    }
   ],
   "source": [
    "y_test"
   ]
  },
  {
   "cell_type": "code",
   "execution_count": 19,
   "id": "8d3393e4",
   "metadata": {},
   "outputs": [
    {
     "name": "stdout",
     "output_type": "stream",
     "text": [
      "1/1 [==============================] - 0s 15ms/step\n",
      "MSE: 0.00026330928\n"
     ]
    }
   ],
   "source": [
    "import numpy as np\n",
    "from sklearn.metrics import mean_squared_error\n",
    "\n",
    "# assume model and test set data are already defined\n",
    "\n",
    "# predict output on test set\n",
    "y_pred = model.predict(X_test)\n",
    "\n",
    "# calculate MSE\n",
    "mse = mean_squared_error(y_test, y_pred)\n",
    "\n",
    "# print the result\n",
    "print(\"MSE:\", mse)"
   ]
  },
  {
   "cell_type": "code",
   "execution_count": null,
   "id": "fa549300",
   "metadata": {},
   "outputs": [],
   "source": []
  }
 ],
 "metadata": {
  "kernelspec": {
   "display_name": "Python 3 (ipykernel)",
   "language": "python",
   "name": "python3"
  },
  "language_info": {
   "codemirror_mode": {
    "name": "ipython",
    "version": 3
   },
   "file_extension": ".py",
   "mimetype": "text/x-python",
   "name": "python",
   "nbconvert_exporter": "python",
   "pygments_lexer": "ipython3",
   "version": "3.9.12"
  }
 },
 "nbformat": 4,
 "nbformat_minor": 5
}
