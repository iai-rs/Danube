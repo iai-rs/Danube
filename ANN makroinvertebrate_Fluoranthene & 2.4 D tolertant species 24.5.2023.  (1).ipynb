{
 "cells": [
  {
   "cell_type": "code",
   "execution_count": 1,
   "id": "8a8001b3",
   "metadata": {},
   "outputs": [],
   "source": [
    "import pandas as pd\n",
    "import numpy as np\n",
    "import tensorflow as tf\n",
    "data = pd.read_csv(r\"C:\\Users\\ivana\\Downloads\\Ksenobiotici_makroinvertebrate.csv\",encoding='latin-1')"
   ]
  },
  {
   "cell_type": "code",
   "execution_count": 2,
   "id": "1caae0f6",
   "metadata": {},
   "outputs": [],
   "source": [
    "\n",
    "X = data.iloc[2:,[79,80,64,76,89,88,83]].values  \n",
    "y = data.iloc[2:,[170,164]].values \n",
    "X=X.astype(\"float32\")\n",
    "y=y.astype(\"float32\")"
   ]
  },
  {
   "cell_type": "code",
   "execution_count": 3,
   "id": "cff6a1f1",
   "metadata": {},
   "outputs": [
    {
     "data": {
      "text/plain": [
       "(106, 7)"
      ]
     },
     "execution_count": 3,
     "metadata": {},
     "output_type": "execute_result"
    }
   ],
   "source": [
    "\n",
    "X.shape"
   ]
  },
  {
   "cell_type": "code",
   "execution_count": 4,
   "id": "9d3698d6",
   "metadata": {},
   "outputs": [
    {
     "name": "stdout",
     "output_type": "stream",
     "text": [
      "[[0.0047     0.00340476]\n",
      " [0.0047     0.00340476]\n",
      " [0.0024     0.00210952]\n",
      " [0.0024     0.00210952]\n",
      " [0.0029     0.00183114]\n",
      " [0.0029     0.00183114]\n",
      " [0.0027     0.00050696]\n",
      " [0.0027     0.00050696]\n",
      " [0.005      0.00100952]\n",
      " [0.005      0.00100952]\n",
      " [0.0028     0.00086667]\n",
      " [0.0028     0.00086667]\n",
      " [0.0025     0.00104622]\n",
      " [0.0025     0.00104622]\n",
      " [0.0043     0.00083333]\n",
      " [0.0043     0.00083333]\n",
      " [0.0028     0.00155247]\n",
      " [0.0028     0.00155247]\n",
      " [0.0022     0.00125583]\n",
      " [0.0022     0.00125583]\n",
      " [0.0028     0.00197143]\n",
      " [0.0028     0.00197143]\n",
      " [0.0032     0.0013971 ]\n",
      " [0.0032     0.0013971 ]\n",
      " [0.0024     0.0014119 ]\n",
      " [0.0024     0.0014119 ]\n",
      " [0.0026     0.00186058]\n",
      " [0.0026     0.00186058]\n",
      " [0.003      0.00466557]\n",
      " [0.003      0.00466557]\n",
      " [0.         0.00173297]\n",
      " [0.         0.00173297]\n",
      " [0.0046     0.00152878]\n",
      " [0.0046     0.00152878]\n",
      " [0.0204     0.00163517]\n",
      " [0.0204     0.00163517]\n",
      " [0.0055     0.00104286]\n",
      " [0.0055     0.00104286]\n",
      " [0.0061     0.00115238]\n",
      " [0.0061     0.00115238]\n",
      " [0.0055     0.00171446]\n",
      " [0.0055     0.00171446]\n",
      " [0.0062     0.00153016]\n",
      " [0.0062     0.00153016]\n",
      " [0.0041     0.00101482]\n",
      " [0.0041     0.00101482]\n",
      " [0.0039     0.00128571]\n",
      " [0.0039     0.00128571]\n",
      " [0.0055     0.00160952]\n",
      " [0.0055     0.00160952]\n",
      " [0.0057     0.00111787]\n",
      " [0.0057     0.00111787]\n",
      " [0.0028     0.0009439 ]\n",
      " [0.0028     0.0009439 ]\n",
      " [0.003      0.00130952]\n",
      " [0.003      0.00130952]\n",
      " [0.0026     0.00151905]\n",
      " [0.0026     0.00151905]\n",
      " [0.0021     0.00190952]\n",
      " [0.0021     0.00190952]\n",
      " [0.0024     0.00134286]\n",
      " [0.0024     0.00134286]\n",
      " [0.0024     0.00566667]\n",
      " [0.0024     0.00566667]\n",
      " [0.0029     0.00144286]\n",
      " [0.0029     0.00144286]\n",
      " [0.0025     0.00168095]\n",
      " [0.0025     0.00168095]\n",
      " [0.003      0.00177143]\n",
      " [0.003      0.00177143]\n",
      " [0.0031     0.00204286]\n",
      " [0.0031     0.00204286]\n",
      " [0.0024     0.00216667]\n",
      " [0.0024     0.00216667]\n",
      " [0.0025     0.00189524]\n",
      " [0.0025     0.00189524]\n",
      " [0.0023     0.0018381 ]\n",
      " [0.0023     0.0018381 ]\n",
      " [0.003      0.00171905]\n",
      " [0.003      0.00171905]\n",
      " [0.         0.00141905]\n",
      " [0.         0.00141905]\n",
      " [0.0022     0.00203333]\n",
      " [0.0022     0.00203333]\n",
      " [0.         0.00307143]\n",
      " [0.         0.00307143]\n",
      " [0.0023     0.02109524]\n",
      " [0.0023     0.02109524]\n",
      " [0.         0.00187143]\n",
      " [0.         0.00187143]\n",
      " [0.         0.        ]\n",
      " [0.         0.        ]\n",
      " [0.         0.00273333]\n",
      " [0.         0.00273333]\n",
      " [0.         0.0018    ]\n",
      " [0.         0.0018    ]\n",
      " [0.0021     0.        ]\n",
      " [0.0021     0.        ]\n",
      " [0.         0.00232381]\n",
      " [0.         0.00232381]\n",
      " [0.0025     0.0039619 ]\n",
      " [0.0025     0.0039619 ]\n",
      " [0.002      0.        ]\n",
      " [0.002      0.        ]\n",
      " [0.0025     0.00134286]\n",
      " [0.0025     0.00134286]]\n"
     ]
    },
    {
     "data": {
      "text/plain": [
       "(106, 2)"
      ]
     },
     "execution_count": 4,
     "metadata": {},
     "output_type": "execute_result"
    }
   ],
   "source": [
    "print (y)\n",
    "y.shape"
   ]
  },
  {
   "cell_type": "code",
   "execution_count": 5,
   "id": "12c6aea4",
   "metadata": {},
   "outputs": [
    {
     "data": {
      "text/plain": [
       "106"
      ]
     },
     "execution_count": 5,
     "metadata": {},
     "output_type": "execute_result"
    }
   ],
   "source": [
    "len(y)\n"
   ]
  },
  {
   "cell_type": "code",
   "execution_count": 6,
   "id": "ce980acd",
   "metadata": {},
   "outputs": [],
   "source": [
    "train_index=np.arange(0, X.shape[0])#train index svi indeksi\n",
    "test_index= np.random.randint(0, X.shape[0],2)#nasumice uzima 10 za test\n",
    "train_index=np.setdiff1d(train_index, test_index)# novi train indeks bez testa\n",
    "X_train=X[train_index,:]#sve vrednosti iz train seta\n",
    "X_test=X[test_index,:]\n",
    "y_train=y[train_index]\n",
    "y_test=y[test_index]"
   ]
  },
  {
   "cell_type": "code",
   "execution_count": 7,
   "id": "9a1b29a8",
   "metadata": {},
   "outputs": [
    {
     "data": {
      "text/plain": [
       "7"
      ]
     },
     "execution_count": 7,
     "metadata": {},
     "output_type": "execute_result"
    }
   ],
   "source": [
    "X.shape[1]\n"
   ]
  },
  {
   "cell_type": "code",
   "execution_count": 8,
   "id": "82a4a346",
   "metadata": {},
   "outputs": [
    {
     "name": "stdout",
     "output_type": "stream",
     "text": [
      "Epoch 1/200\n",
      "9/9 [==============================] - 0s 18ms/step - loss: 0.1545 - val_loss: 0.0717\n",
      "Epoch 2/200\n",
      "9/9 [==============================] - 0s 3ms/step - loss: 0.0500 - val_loss: 0.0166\n",
      "Epoch 3/200\n",
      "9/9 [==============================] - 0s 3ms/step - loss: 0.0115 - val_loss: 0.0057\n",
      "Epoch 4/200\n",
      "9/9 [==============================] - 0s 3ms/step - loss: 0.0052 - val_loss: 0.0066\n",
      "Epoch 5/200\n",
      "9/9 [==============================] - 0s 3ms/step - loss: 0.0053 - val_loss: 0.0059\n",
      "Epoch 6/200\n",
      "9/9 [==============================] - 0s 3ms/step - loss: 0.0042 - val_loss: 0.0035\n",
      "Epoch 7/200\n",
      "9/9 [==============================] - 0s 3ms/step - loss: 0.0027 - val_loss: 0.0021\n",
      "Epoch 8/200\n",
      "9/9 [==============================] - 0s 3ms/step - loss: 0.0022 - val_loss: 0.0016\n",
      "Epoch 9/200\n",
      "9/9 [==============================] - 0s 3ms/step - loss: 0.0018 - val_loss: 0.0013\n",
      "Epoch 10/200\n",
      "9/9 [==============================] - 0s 3ms/step - loss: 0.0015 - val_loss: 0.0011\n",
      "Epoch 11/200\n",
      "9/9 [==============================] - 0s 3ms/step - loss: 0.0012 - val_loss: 0.0010\n",
      "Epoch 12/200\n",
      "9/9 [==============================] - 0s 3ms/step - loss: 0.0010 - val_loss: 8.8178e-04\n",
      "Epoch 13/200\n",
      "9/9 [==============================] - 0s 3ms/step - loss: 8.3041e-04 - val_loss: 7.5116e-04\n",
      "Epoch 14/200\n",
      "9/9 [==============================] - 0s 3ms/step - loss: 6.8177e-04 - val_loss: 6.3882e-04\n",
      "Epoch 15/200\n",
      "9/9 [==============================] - 0s 3ms/step - loss: 5.9048e-04 - val_loss: 5.5794e-04\n",
      "Epoch 16/200\n",
      "9/9 [==============================] - 0s 3ms/step - loss: 5.1038e-04 - val_loss: 5.1185e-04\n",
      "Epoch 17/200\n",
      "9/9 [==============================] - 0s 3ms/step - loss: 4.4833e-04 - val_loss: 4.9031e-04\n",
      "Epoch 18/200\n",
      "9/9 [==============================] - 0s 3ms/step - loss: 4.1088e-04 - val_loss: 4.7150e-04\n",
      "Epoch 19/200\n",
      "9/9 [==============================] - 0s 3ms/step - loss: 3.8184e-04 - val_loss: 4.4709e-04\n",
      "Epoch 20/200\n",
      "9/9 [==============================] - 0s 3ms/step - loss: 3.5149e-04 - val_loss: 4.2631e-04\n",
      "Epoch 21/200\n",
      "9/9 [==============================] - 0s 3ms/step - loss: 3.2462e-04 - val_loss: 3.9624e-04\n",
      "Epoch 22/200\n",
      "9/9 [==============================] - 0s 3ms/step - loss: 3.0532e-04 - val_loss: 3.8678e-04\n",
      "Epoch 23/200\n",
      "9/9 [==============================] - 0s 3ms/step - loss: 2.9025e-04 - val_loss: 3.7713e-04\n",
      "Epoch 24/200\n",
      "9/9 [==============================] - 0s 3ms/step - loss: 2.7163e-04 - val_loss: 3.6758e-04\n",
      "Epoch 25/200\n",
      "9/9 [==============================] - 0s 3ms/step - loss: 2.5850e-04 - val_loss: 3.4947e-04\n",
      "Epoch 26/200\n",
      "9/9 [==============================] - 0s 3ms/step - loss: 2.4439e-04 - val_loss: 3.3747e-04\n",
      "Epoch 27/200\n",
      "9/9 [==============================] - 0s 3ms/step - loss: 2.2713e-04 - val_loss: 3.2536e-04\n",
      "Epoch 28/200\n",
      "9/9 [==============================] - 0s 3ms/step - loss: 2.1370e-04 - val_loss: 3.1606e-04\n",
      "Epoch 29/200\n",
      "9/9 [==============================] - 0s 3ms/step - loss: 2.0169e-04 - val_loss: 3.2147e-04\n",
      "Epoch 30/200\n",
      "9/9 [==============================] - 0s 3ms/step - loss: 1.9256e-04 - val_loss: 3.0951e-04\n",
      "Epoch 31/200\n",
      "9/9 [==============================] - 0s 3ms/step - loss: 1.9138e-04 - val_loss: 2.8970e-04\n",
      "Epoch 32/200\n",
      "9/9 [==============================] - 0s 3ms/step - loss: 1.7639e-04 - val_loss: 2.8469e-04\n",
      "Epoch 33/200\n",
      "9/9 [==============================] - 0s 3ms/step - loss: 1.6497e-04 - val_loss: 2.8154e-04\n",
      "Epoch 34/200\n",
      "9/9 [==============================] - 0s 3ms/step - loss: 1.6182e-04 - val_loss: 2.8168e-04\n",
      "Epoch 35/200\n",
      "9/9 [==============================] - 0s 3ms/step - loss: 1.5404e-04 - val_loss: 2.7008e-04\n",
      "Epoch 36/200\n",
      "9/9 [==============================] - 0s 3ms/step - loss: 1.4875e-04 - val_loss: 2.6294e-04\n",
      "Epoch 37/200\n",
      "9/9 [==============================] - 0s 3ms/step - loss: 1.4336e-04 - val_loss: 2.5690e-04\n",
      "Epoch 38/200\n",
      "9/9 [==============================] - 0s 3ms/step - loss: 1.4105e-04 - val_loss: 2.4879e-04\n",
      "Epoch 39/200\n",
      "9/9 [==============================] - 0s 3ms/step - loss: 1.3427e-04 - val_loss: 2.5020e-04\n",
      "Epoch 40/200\n",
      "9/9 [==============================] - 0s 3ms/step - loss: 1.3158e-04 - val_loss: 2.4289e-04\n",
      "Epoch 41/200\n",
      "9/9 [==============================] - 0s 3ms/step - loss: 1.2559e-04 - val_loss: 2.3753e-04\n",
      "Epoch 42/200\n",
      "9/9 [==============================] - 0s 3ms/step - loss: 1.2221e-04 - val_loss: 2.2712e-04\n",
      "Epoch 43/200\n",
      "9/9 [==============================] - 0s 3ms/step - loss: 1.1971e-04 - val_loss: 2.2459e-04\n",
      "Epoch 44/200\n",
      "9/9 [==============================] - 0s 3ms/step - loss: 1.1426e-04 - val_loss: 2.2455e-04\n",
      "Epoch 45/200\n",
      "9/9 [==============================] - 0s 3ms/step - loss: 1.1258e-04 - val_loss: 2.1219e-04\n",
      "Epoch 46/200\n",
      "9/9 [==============================] - 0s 3ms/step - loss: 1.0564e-04 - val_loss: 2.1401e-04\n",
      "Epoch 47/200\n",
      "9/9 [==============================] - 0s 3ms/step - loss: 1.0364e-04 - val_loss: 2.0905e-04\n",
      "Epoch 48/200\n",
      "9/9 [==============================] - 0s 3ms/step - loss: 1.0098e-04 - val_loss: 1.9840e-04\n",
      "Epoch 49/200\n",
      "9/9 [==============================] - 0s 3ms/step - loss: 9.6021e-05 - val_loss: 1.9686e-04\n",
      "Epoch 50/200\n",
      "9/9 [==============================] - 0s 3ms/step - loss: 9.2819e-05 - val_loss: 1.9106e-04\n",
      "Epoch 51/200\n",
      "9/9 [==============================] - 0s 3ms/step - loss: 9.0412e-05 - val_loss: 1.8869e-04\n",
      "Epoch 52/200\n",
      "9/9 [==============================] - 0s 3ms/step - loss: 8.7922e-05 - val_loss: 1.8751e-04\n",
      "Epoch 53/200\n",
      "9/9 [==============================] - 0s 3ms/step - loss: 8.4471e-05 - val_loss: 1.8004e-04\n",
      "Epoch 54/200\n",
      "9/9 [==============================] - 0s 3ms/step - loss: 8.2606e-05 - val_loss: 1.7443e-04\n",
      "Epoch 55/200\n",
      "9/9 [==============================] - 0s 3ms/step - loss: 8.0885e-05 - val_loss: 1.7640e-04\n",
      "Epoch 56/200\n",
      "9/9 [==============================] - 0s 3ms/step - loss: 7.8164e-05 - val_loss: 1.6904e-04\n",
      "Epoch 57/200\n",
      "9/9 [==============================] - 0s 3ms/step - loss: 7.8466e-05 - val_loss: 1.6366e-04\n",
      "Epoch 58/200\n",
      "9/9 [==============================] - 0s 3ms/step - loss: 7.3842e-05 - val_loss: 1.6823e-04\n",
      "Epoch 59/200\n",
      "9/9 [==============================] - 0s 3ms/step - loss: 7.2761e-05 - val_loss: 1.6213e-04\n",
      "Epoch 60/200\n",
      "9/9 [==============================] - 0s 3ms/step - loss: 7.0641e-05 - val_loss: 1.5732e-04\n",
      "Epoch 61/200\n",
      "9/9 [==============================] - 0s 3ms/step - loss: 6.9232e-05 - val_loss: 1.5666e-04\n",
      "Epoch 62/200\n",
      "9/9 [==============================] - 0s 3ms/step - loss: 6.8380e-05 - val_loss: 1.5414e-04\n",
      "Epoch 63/200\n",
      "9/9 [==============================] - 0s 3ms/step - loss: 6.4952e-05 - val_loss: 1.4801e-04\n",
      "Epoch 64/200\n",
      "9/9 [==============================] - 0s 3ms/step - loss: 6.2135e-05 - val_loss: 1.4905e-04\n",
      "Epoch 65/200\n",
      "9/9 [==============================] - 0s 3ms/step - loss: 5.7935e-05 - val_loss: 1.5072e-04\n",
      "Epoch 66/200\n",
      "9/9 [==============================] - 0s 3ms/step - loss: 5.4663e-05 - val_loss: 1.4084e-04\n",
      "Epoch 67/200\n",
      "9/9 [==============================] - 0s 3ms/step - loss: 5.1762e-05 - val_loss: 1.4282e-04\n",
      "Epoch 68/200\n",
      "9/9 [==============================] - 0s 3ms/step - loss: 4.7933e-05 - val_loss: 1.3872e-04\n",
      "Epoch 69/200\n",
      "9/9 [==============================] - 0s 3ms/step - loss: 4.5426e-05 - val_loss: 1.3785e-04\n",
      "Epoch 70/200\n",
      "9/9 [==============================] - 0s 3ms/step - loss: 4.6325e-05 - val_loss: 1.4004e-04\n",
      "Epoch 71/200\n",
      "9/9 [==============================] - 0s 3ms/step - loss: 4.3648e-05 - val_loss: 1.3326e-04\n",
      "Epoch 72/200\n",
      "9/9 [==============================] - 0s 3ms/step - loss: 4.3187e-05 - val_loss: 1.3533e-04\n",
      "Epoch 73/200\n",
      "9/9 [==============================] - 0s 3ms/step - loss: 4.1503e-05 - val_loss: 1.3043e-04\n",
      "Epoch 74/200\n",
      "9/9 [==============================] - 0s 3ms/step - loss: 4.1515e-05 - val_loss: 1.2727e-04\n",
      "Epoch 75/200\n",
      "9/9 [==============================] - 0s 3ms/step - loss: 4.0556e-05 - val_loss: 1.2822e-04\n",
      "Epoch 76/200\n",
      "9/9 [==============================] - 0s 3ms/step - loss: 3.9469e-05 - val_loss: 1.2265e-04\n",
      "Epoch 77/200\n",
      "9/9 [==============================] - 0s 3ms/step - loss: 3.9173e-05 - val_loss: 1.1878e-04\n",
      "Epoch 78/200\n",
      "9/9 [==============================] - 0s 3ms/step - loss: 3.8693e-05 - val_loss: 1.2459e-04\n",
      "Epoch 79/200\n"
     ]
    },
    {
     "name": "stdout",
     "output_type": "stream",
     "text": [
      "9/9 [==============================] - 0s 3ms/step - loss: 3.6571e-05 - val_loss: 1.1777e-04\n",
      "Epoch 80/200\n",
      "9/9 [==============================] - 0s 3ms/step - loss: 3.6401e-05 - val_loss: 1.1493e-04\n",
      "Epoch 81/200\n",
      "9/9 [==============================] - 0s 3ms/step - loss: 3.6064e-05 - val_loss: 1.1490e-04\n",
      "Epoch 82/200\n",
      "9/9 [==============================] - 0s 3ms/step - loss: 3.6058e-05 - val_loss: 1.1005e-04\n",
      "Epoch 83/200\n",
      "9/9 [==============================] - 0s 3ms/step - loss: 3.4828e-05 - val_loss: 1.1230e-04\n",
      "Epoch 84/200\n",
      "9/9 [==============================] - 0s 3ms/step - loss: 3.3532e-05 - val_loss: 1.1247e-04\n",
      "Epoch 85/200\n",
      "9/9 [==============================] - 0s 3ms/step - loss: 3.3078e-05 - val_loss: 1.0937e-04\n",
      "Epoch 86/200\n",
      "9/9 [==============================] - 0s 2ms/step - loss: 3.2572e-05 - val_loss: 1.0871e-04\n",
      "Epoch 87/200\n",
      "9/9 [==============================] - 0s 4ms/step - loss: 3.1799e-05 - val_loss: 1.0456e-04\n",
      "Epoch 88/200\n",
      "9/9 [==============================] - 0s 3ms/step - loss: 3.1155e-05 - val_loss: 1.0672e-04\n",
      "Epoch 89/200\n",
      "9/9 [==============================] - 0s 3ms/step - loss: 3.0949e-05 - val_loss: 1.0617e-04\n",
      "Epoch 90/200\n",
      "9/9 [==============================] - 0s 3ms/step - loss: 3.0175e-05 - val_loss: 1.0500e-04\n",
      "Epoch 91/200\n",
      "9/9 [==============================] - 0s 3ms/step - loss: 3.0172e-05 - val_loss: 1.0493e-04\n",
      "Epoch 92/200\n",
      "9/9 [==============================] - 0s 3ms/step - loss: 2.8733e-05 - val_loss: 9.8946e-05\n",
      "Epoch 93/200\n",
      "9/9 [==============================] - 0s 3ms/step - loss: 2.8997e-05 - val_loss: 1.0058e-04\n",
      "Epoch 94/200\n",
      "9/9 [==============================] - 0s 3ms/step - loss: 2.7856e-05 - val_loss: 9.8705e-05\n",
      "Epoch 95/200\n",
      "9/9 [==============================] - 0s 3ms/step - loss: 2.7261e-05 - val_loss: 9.5927e-05\n",
      "Epoch 96/200\n",
      "9/9 [==============================] - 0s 3ms/step - loss: 2.6390e-05 - val_loss: 9.5939e-05\n",
      "Epoch 97/200\n",
      "9/9 [==============================] - 0s 3ms/step - loss: 2.7303e-05 - val_loss: 9.5440e-05\n",
      "Epoch 98/200\n",
      "9/9 [==============================] - 0s 3ms/step - loss: 2.7957e-05 - val_loss: 9.1981e-05\n",
      "Epoch 99/200\n",
      "9/9 [==============================] - 0s 3ms/step - loss: 2.5693e-05 - val_loss: 9.4396e-05\n",
      "Epoch 100/200\n",
      "9/9 [==============================] - 0s 3ms/step - loss: 2.5145e-05 - val_loss: 9.1717e-05\n",
      "Epoch 101/200\n",
      "9/9 [==============================] - 0s 2ms/step - loss: 2.4924e-05 - val_loss: 9.4074e-05\n",
      "Epoch 102/200\n",
      "9/9 [==============================] - 0s 3ms/step - loss: 2.3818e-05 - val_loss: 9.0491e-05\n",
      "Epoch 103/200\n",
      "9/9 [==============================] - 0s 3ms/step - loss: 2.4090e-05 - val_loss: 8.8734e-05\n",
      "Epoch 104/200\n",
      "9/9 [==============================] - 0s 3ms/step - loss: 2.2726e-05 - val_loss: 8.9989e-05\n",
      "Epoch 105/200\n",
      "9/9 [==============================] - 0s 3ms/step - loss: 2.2712e-05 - val_loss: 8.8429e-05\n",
      "Epoch 106/200\n",
      "9/9 [==============================] - 0s 3ms/step - loss: 2.2126e-05 - val_loss: 8.7568e-05\n",
      "Epoch 107/200\n",
      "9/9 [==============================] - 0s 3ms/step - loss: 2.1599e-05 - val_loss: 8.5368e-05\n",
      "Epoch 108/200\n",
      "9/9 [==============================] - 0s 3ms/step - loss: 2.1478e-05 - val_loss: 8.5714e-05\n",
      "Epoch 109/200\n",
      "9/9 [==============================] - 0s 3ms/step - loss: 2.0709e-05 - val_loss: 8.4484e-05\n",
      "Epoch 110/200\n",
      "9/9 [==============================] - 0s 3ms/step - loss: 2.0578e-05 - val_loss: 8.3295e-05\n",
      "Epoch 111/200\n",
      "9/9 [==============================] - 0s 3ms/step - loss: 2.0158e-05 - val_loss: 8.2062e-05\n",
      "Epoch 112/200\n",
      "9/9 [==============================] - 0s 3ms/step - loss: 1.9802e-05 - val_loss: 8.0875e-05\n",
      "Epoch 113/200\n",
      "9/9 [==============================] - 0s 3ms/step - loss: 1.9619e-05 - val_loss: 8.0192e-05\n",
      "Epoch 114/200\n",
      "9/9 [==============================] - 0s 3ms/step - loss: 1.9059e-05 - val_loss: 8.2383e-05\n",
      "Epoch 115/200\n",
      "9/9 [==============================] - 0s 3ms/step - loss: 1.9198e-05 - val_loss: 7.8680e-05\n",
      "Epoch 116/200\n",
      "9/9 [==============================] - 0s 3ms/step - loss: 1.9357e-05 - val_loss: 7.7887e-05\n",
      "Epoch 117/200\n",
      "9/9 [==============================] - 0s 3ms/step - loss: 1.8584e-05 - val_loss: 7.8722e-05\n",
      "Epoch 118/200\n",
      "9/9 [==============================] - 0s 2ms/step - loss: 1.8162e-05 - val_loss: 7.5901e-05\n",
      "Epoch 119/200\n",
      "9/9 [==============================] - 0s 3ms/step - loss: 1.7757e-05 - val_loss: 7.6784e-05\n",
      "Epoch 120/200\n",
      "9/9 [==============================] - 0s 3ms/step - loss: 1.7603e-05 - val_loss: 7.4348e-05\n",
      "Epoch 121/200\n",
      "9/9 [==============================] - 0s 3ms/step - loss: 1.8066e-05 - val_loss: 7.3087e-05\n",
      "Epoch 122/200\n",
      "9/9 [==============================] - 0s 3ms/step - loss: 1.7146e-05 - val_loss: 7.4008e-05\n",
      "Epoch 123/200\n",
      "9/9 [==============================] - 0s 3ms/step - loss: 1.6465e-05 - val_loss: 7.2382e-05\n",
      "Epoch 124/200\n",
      "9/9 [==============================] - 0s 3ms/step - loss: 1.6171e-05 - val_loss: 7.2177e-05\n",
      "Epoch 125/200\n",
      "9/9 [==============================] - 0s 3ms/step - loss: 1.6608e-05 - val_loss: 7.1289e-05\n",
      "Epoch 126/200\n",
      "9/9 [==============================] - 0s 3ms/step - loss: 1.6862e-05 - val_loss: 6.9820e-05\n",
      "Epoch 127/200\n",
      "9/9 [==============================] - 0s 3ms/step - loss: 1.8083e-05 - val_loss: 7.1827e-05\n",
      "Epoch 128/200\n",
      "9/9 [==============================] - 0s 3ms/step - loss: 1.7273e-05 - val_loss: 6.8537e-05\n",
      "Epoch 129/200\n",
      "9/9 [==============================] - 0s 3ms/step - loss: 1.6609e-05 - val_loss: 7.0811e-05\n",
      "Epoch 130/200\n",
      "9/9 [==============================] - 0s 3ms/step - loss: 1.5427e-05 - val_loss: 6.7495e-05\n",
      "Epoch 131/200\n",
      "9/9 [==============================] - 0s 3ms/step - loss: 1.4581e-05 - val_loss: 6.7099e-05\n",
      "Epoch 132/200\n",
      "9/9 [==============================] - 0s 3ms/step - loss: 1.4856e-05 - val_loss: 6.5130e-05\n",
      "Epoch 133/200\n",
      "9/9 [==============================] - 0s 3ms/step - loss: 1.4043e-05 - val_loss: 6.4966e-05\n",
      "Epoch 134/200\n",
      "9/9 [==============================] - 0s 3ms/step - loss: 1.4484e-05 - val_loss: 6.3694e-05\n",
      "Epoch 135/200\n",
      "9/9 [==============================] - 0s 3ms/step - loss: 1.3985e-05 - val_loss: 6.3361e-05\n",
      "Epoch 136/200\n",
      "9/9 [==============================] - 0s 3ms/step - loss: 1.3957e-05 - val_loss: 6.2904e-05\n",
      "Epoch 137/200\n",
      "9/9 [==============================] - 0s 3ms/step - loss: 1.3639e-05 - val_loss: 6.3472e-05\n",
      "Epoch 138/200\n",
      "9/9 [==============================] - 0s 3ms/step - loss: 1.3323e-05 - val_loss: 6.3325e-05\n",
      "Epoch 139/200\n",
      "9/9 [==============================] - 0s 3ms/step - loss: 1.3114e-05 - val_loss: 6.2790e-05\n",
      "Epoch 140/200\n",
      "9/9 [==============================] - 0s 3ms/step - loss: 1.3562e-05 - val_loss: 6.2781e-05\n",
      "Epoch 141/200\n",
      "9/9 [==============================] - 0s 3ms/step - loss: 1.2852e-05 - val_loss: 6.1557e-05\n",
      "Epoch 142/200\n",
      "9/9 [==============================] - 0s 3ms/step - loss: 1.3187e-05 - val_loss: 6.1040e-05\n",
      "Epoch 143/200\n",
      "9/9 [==============================] - 0s 3ms/step - loss: 1.2781e-05 - val_loss: 6.1935e-05\n",
      "Epoch 144/200\n",
      "9/9 [==============================] - 0s 3ms/step - loss: 1.2834e-05 - val_loss: 6.0032e-05\n",
      "Epoch 145/200\n",
      "9/9 [==============================] - 0s 3ms/step - loss: 1.2567e-05 - val_loss: 5.9516e-05\n",
      "Epoch 146/200\n",
      "9/9 [==============================] - 0s 3ms/step - loss: 1.1928e-05 - val_loss: 6.0819e-05\n",
      "Epoch 147/200\n",
      "9/9 [==============================] - 0s 3ms/step - loss: 1.2046e-05 - val_loss: 5.9304e-05\n",
      "Epoch 148/200\n",
      "9/9 [==============================] - 0s 3ms/step - loss: 1.1960e-05 - val_loss: 5.8811e-05\n",
      "Epoch 149/200\n",
      "9/9 [==============================] - 0s 3ms/step - loss: 1.1678e-05 - val_loss: 5.9340e-05\n",
      "Epoch 150/200\n",
      "9/9 [==============================] - 0s 3ms/step - loss: 1.1918e-05 - val_loss: 5.7404e-05\n",
      "Epoch 151/200\n",
      "9/9 [==============================] - 0s 3ms/step - loss: 1.2902e-05 - val_loss: 5.7922e-05\n",
      "Epoch 152/200\n",
      "9/9 [==============================] - 0s 3ms/step - loss: 1.2345e-05 - val_loss: 5.9938e-05\n",
      "Epoch 153/200\n",
      "9/9 [==============================] - 0s 3ms/step - loss: 1.1071e-05 - val_loss: 5.7303e-05\n",
      "Epoch 154/200\n",
      "9/9 [==============================] - 0s 3ms/step - loss: 1.1566e-05 - val_loss: 5.6431e-05\n",
      "Epoch 155/200\n",
      "9/9 [==============================] - 0s 2ms/step - loss: 1.1447e-05 - val_loss: 5.6307e-05\n"
     ]
    },
    {
     "name": "stdout",
     "output_type": "stream",
     "text": [
      "Epoch 156/200\n",
      "9/9 [==============================] - 0s 4ms/step - loss: 1.1118e-05 - val_loss: 5.6356e-05\n",
      "Epoch 157/200\n",
      "9/9 [==============================] - 0s 3ms/step - loss: 1.0707e-05 - val_loss: 5.5170e-05\n",
      "Epoch 158/200\n",
      "9/9 [==============================] - 0s 3ms/step - loss: 1.0647e-05 - val_loss: 5.6803e-05\n",
      "Epoch 159/200\n",
      "9/9 [==============================] - 0s 3ms/step - loss: 1.1020e-05 - val_loss: 5.6201e-05\n",
      "Epoch 160/200\n",
      "9/9 [==============================] - 0s 3ms/step - loss: 1.0665e-05 - val_loss: 5.5524e-05\n",
      "Epoch 161/200\n",
      "9/9 [==============================] - 0s 3ms/step - loss: 1.0743e-05 - val_loss: 5.5778e-05\n",
      "Epoch 162/200\n",
      "9/9 [==============================] - 0s 3ms/step - loss: 1.0283e-05 - val_loss: 5.3457e-05\n",
      "Epoch 163/200\n",
      "9/9 [==============================] - 0s 3ms/step - loss: 1.0123e-05 - val_loss: 5.3722e-05\n",
      "Epoch 164/200\n",
      "9/9 [==============================] - 0s 3ms/step - loss: 9.8574e-06 - val_loss: 5.2638e-05\n",
      "Epoch 165/200\n",
      "9/9 [==============================] - 0s 3ms/step - loss: 9.8539e-06 - val_loss: 5.2809e-05\n",
      "Epoch 166/200\n",
      "9/9 [==============================] - 0s 2ms/step - loss: 9.8200e-06 - val_loss: 5.2866e-05\n",
      "Epoch 167/200\n",
      "9/9 [==============================] - 0s 3ms/step - loss: 9.6322e-06 - val_loss: 5.1950e-05\n",
      "Epoch 168/200\n",
      "9/9 [==============================] - 0s 3ms/step - loss: 9.5390e-06 - val_loss: 5.3085e-05\n",
      "Epoch 169/200\n",
      "9/9 [==============================] - 0s 3ms/step - loss: 9.6737e-06 - val_loss: 5.1475e-05\n",
      "Epoch 170/200\n",
      "9/9 [==============================] - 0s 3ms/step - loss: 9.2455e-06 - val_loss: 5.1346e-05\n",
      "Epoch 171/200\n",
      "9/9 [==============================] - 0s 3ms/step - loss: 9.4736e-06 - val_loss: 5.1176e-05\n",
      "Epoch 172/200\n",
      "9/9 [==============================] - 0s 3ms/step - loss: 9.1889e-06 - val_loss: 5.0602e-05\n",
      "Epoch 173/200\n",
      "9/9 [==============================] - 0s 3ms/step - loss: 9.1929e-06 - val_loss: 5.0068e-05\n",
      "Epoch 174/200\n",
      "9/9 [==============================] - 0s 3ms/step - loss: 9.3752e-06 - val_loss: 5.0610e-05\n",
      "Epoch 175/200\n",
      "9/9 [==============================] - 0s 3ms/step - loss: 9.2569e-06 - val_loss: 4.9128e-05\n",
      "Epoch 176/200\n",
      "9/9 [==============================] - 0s 3ms/step - loss: 9.4912e-06 - val_loss: 4.9481e-05\n",
      "Epoch 177/200\n",
      "9/9 [==============================] - 0s 3ms/step - loss: 8.8219e-06 - val_loss: 4.8087e-05\n",
      "Epoch 178/200\n",
      "9/9 [==============================] - 0s 3ms/step - loss: 8.7205e-06 - val_loss: 4.8430e-05\n",
      "Epoch 179/200\n",
      "9/9 [==============================] - 0s 3ms/step - loss: 8.8162e-06 - val_loss: 4.8638e-05\n",
      "Epoch 180/200\n",
      "9/9 [==============================] - 0s 3ms/step - loss: 8.8458e-06 - val_loss: 4.8781e-05\n",
      "Epoch 181/200\n",
      "9/9 [==============================] - 0s 3ms/step - loss: 9.1011e-06 - val_loss: 4.7868e-05\n",
      "Epoch 182/200\n",
      "9/9 [==============================] - 0s 3ms/step - loss: 8.7265e-06 - val_loss: 4.8112e-05\n",
      "Epoch 183/200\n",
      "9/9 [==============================] - 0s 3ms/step - loss: 8.7590e-06 - val_loss: 4.8996e-05\n",
      "Epoch 184/200\n",
      "9/9 [==============================] - 0s 3ms/step - loss: 8.7752e-06 - val_loss: 4.7734e-05\n",
      "Epoch 185/200\n",
      "9/9 [==============================] - 0s 3ms/step - loss: 8.0302e-06 - val_loss: 4.7807e-05\n",
      "Epoch 186/200\n",
      "9/9 [==============================] - 0s 3ms/step - loss: 8.3038e-06 - val_loss: 4.9567e-05\n",
      "Epoch 187/200\n",
      "9/9 [==============================] - 0s 3ms/step - loss: 8.1972e-06 - val_loss: 4.7305e-05\n",
      "Epoch 188/200\n",
      "9/9 [==============================] - 0s 3ms/step - loss: 8.0260e-06 - val_loss: 4.7332e-05\n",
      "Epoch 189/200\n",
      "9/9 [==============================] - 0s 3ms/step - loss: 7.7753e-06 - val_loss: 4.6340e-05\n",
      "Epoch 190/200\n",
      "9/9 [==============================] - 0s 3ms/step - loss: 7.9633e-06 - val_loss: 4.6996e-05\n",
      "Epoch 191/200\n",
      "9/9 [==============================] - 0s 3ms/step - loss: 7.9079e-06 - val_loss: 4.6856e-05\n",
      "Epoch 192/200\n",
      "9/9 [==============================] - 0s 3ms/step - loss: 7.7703e-06 - val_loss: 4.5682e-05\n",
      "Epoch 193/200\n",
      "9/9 [==============================] - 0s 3ms/step - loss: 7.9469e-06 - val_loss: 4.7003e-05\n",
      "Epoch 194/200\n",
      "9/9 [==============================] - 0s 3ms/step - loss: 9.3058e-06 - val_loss: 4.6003e-05\n",
      "Epoch 195/200\n",
      "9/9 [==============================] - 0s 3ms/step - loss: 7.9233e-06 - val_loss: 4.5794e-05\n",
      "Epoch 196/200\n",
      "9/9 [==============================] - 0s 3ms/step - loss: 7.4555e-06 - val_loss: 4.5987e-05\n",
      "Epoch 197/200\n",
      "9/9 [==============================] - 0s 3ms/step - loss: 7.6918e-06 - val_loss: 4.5741e-05\n",
      "Epoch 198/200\n",
      "9/9 [==============================] - 0s 3ms/step - loss: 7.5223e-06 - val_loss: 4.4228e-05\n",
      "Epoch 199/200\n",
      "9/9 [==============================] - 0s 3ms/step - loss: 7.4504e-06 - val_loss: 4.3577e-05\n",
      "Epoch 200/200\n",
      "9/9 [==============================] - 0s 3ms/step - loss: 7.5040e-06 - val_loss: 4.6927e-05\n"
     ]
    },
    {
     "data": {
      "image/png": "[encoded data removed]",
      "text/plain": [
       "<Figure size 432x288 with 1 Axes>"
      ]
     },
     "metadata": {
      "needs_background": "light"
     },
     "output_type": "display_data"
    }
   ],
   "source": [
    "import numpy as np\n",
    "from keras.models import Sequential\n",
    "from keras.layers import Dense\n",
    "import matplotlib.pyplot as plt\n",
    "\n",
    "# define the model\n",
    "model = Sequential()\n",
    "\n",
    "#model.add(Dense(8, activation='sigmoid'))\n",
    "model.add(Dense(12, activation='sigmoid'))\n",
    "model.add(Dense(30, activation='sigmoid'))\n",
    "model.add(Dense(2, activation='linear'))\n",
    "\n",
    "\n",
    "tf.random.set_seed(12345)\n",
    "model.compile(loss='mean_squared_error', optimizer=tf.keras.optimizers.Adam(0.001))\n",
    "#learning rate 0.001\n",
    "\n",
    "history=model.fit(X_train, y_train, epochs=200, batch_size=10, verbose=1, validation_split = 0.2)\n",
    "\n",
    "hist = pd.DataFrame(history.history)#beleži obuku po epohama\n",
    "hist['epoch'] = history.epoch\n",
    "\n",
    "plt.plot(history.history['loss'], label='loss')\n",
    "plt.plot(history.history['val_loss'], label='val_loss')\n",
    "\n",
    "plt.xlabel('Epoch')\n",
    "plt.ylabel('Error [Bromacil]')\n",
    "plt.legend()\n",
    "plt.grid(True)"
   ]
  },
  {
   "cell_type": "code",
   "execution_count": 9,
   "id": "12b1af27",
   "metadata": {},
   "outputs": [
    {
     "data": {
      "text/plain": [
       "{'loss': 4.5704346121056005e-06}"
      ]
     },
     "execution_count": 9,
     "metadata": {},
     "output_type": "execute_result"
    }
   ],
   "source": [
    "history=model.evaluate(X_test, y_test, batch_size=10, verbose=0, return_dict=True)\n",
    "history\n"
   ]
  },
  {
   "cell_type": "code",
   "execution_count": 10,
   "id": "52f0dd27",
   "metadata": {},
   "outputs": [
    {
     "data": {
      "text/plain": [
       "array([[  0.,   0.,  50.,   0., 208.,  23.,   0.],\n",
       "       [  0.,   0.,   0.,   0.,   1.,   0.,   0.]], dtype=float32)"
      ]
     },
     "execution_count": 10,
     "metadata": {},
     "output_type": "execute_result"
    }
   ],
   "source": [
    "X_test\n",
    "\n"
   ]
  },
  {
   "cell_type": "code",
   "execution_count": 11,
   "id": "96e075ab",
   "metadata": {},
   "outputs": [
    {
     "data": {
      "text/plain": [
       "array([95, 15])"
      ]
     },
     "execution_count": 11,
     "metadata": {},
     "output_type": "execute_result"
    }
   ],
   "source": [
    "test_index"
   ]
  },
  {
   "cell_type": "code",
   "execution_count": 12,
   "id": "3abf8673",
   "metadata": {},
   "outputs": [
    {
     "data": {
      "text/plain": [
       "array([ 0.,  0.,  0.,  0., 84.,  0.,  0.], dtype=float32)"
      ]
     },
     "execution_count": 12,
     "metadata": {},
     "output_type": "execute_result"
    }
   ],
   "source": [
    "X[73,:]"
   ]
  },
  {
   "cell_type": "code",
   "execution_count": 13,
   "id": "09dfa67d",
   "metadata": {},
   "outputs": [
    {
     "name": "stdout",
     "output_type": "stream",
     "text": [
      "1/1 [==============================] - 0s 58ms/step\n"
     ]
    },
    {
     "data": {
      "text/plain": [
       "array([[ 0.00356461, -0.00016994],\n",
       "       [ 0.00299968,  0.00089461]], dtype=float32)"
      ]
     },
     "execution_count": 13,
     "metadata": {},
     "output_type": "execute_result"
    }
   ],
   "source": [
    "y_predict=model.predict(X_test)\n",
    "\n",
    "y_predict"
   ]
  },
  {
   "cell_type": "code",
   "execution_count": 14,
   "id": "61f79b76",
   "metadata": {},
   "outputs": [
    {
     "data": {
      "text/plain": [
       "array([[0.        , 0.0018    ],\n",
       "       [0.0043    , 0.00083333]], dtype=float32)"
      ]
     },
     "execution_count": 14,
     "metadata": {},
     "output_type": "execute_result"
    }
   ],
   "source": [
    "y_test"
   ]
  },
  {
   "cell_type": "code",
   "execution_count": 15,
   "id": "8e7c439a",
   "metadata": {},
   "outputs": [
    {
     "data": {
      "text/plain": [
       "array([0., 0., 0., 0., 1., 0., 0.], dtype=float32)"
      ]
     },
     "execution_count": 15,
     "metadata": {},
     "output_type": "execute_result"
    }
   ],
   "source": [
    "X_test[1]"
   ]
  },
  {
   "cell_type": "code",
   "execution_count": 16,
   "id": "6a948528",
   "metadata": {},
   "outputs": [
    {
     "data": {
      "text/plain": [
       "{'loss': 4.5704346121056005e-06}"
      ]
     },
     "execution_count": 16,
     "metadata": {},
     "output_type": "execute_result"
    }
   ],
   "source": [
    "history"
   ]
  },
  {
   "cell_type": "code",
   "execution_count": 17,
   "id": "b0b13a2b",
   "metadata": {},
   "outputs": [
    {
     "data": {
      "text/plain": [
       "array([[0.        , 0.0018    ],\n",
       "       [0.0043    , 0.00083333]], dtype=float32)"
      ]
     },
     "execution_count": 17,
     "metadata": {},
     "output_type": "execute_result"
    }
   ],
   "source": [
    "y_test"
   ]
  },
  {
   "cell_type": "code",
   "execution_count": 18,
   "id": "8d3393e4",
   "metadata": {},
   "outputs": [
    {
     "name": "stdout",
     "output_type": "stream",
     "text": [
      "1/1 [==============================] - 0s 16ms/step\n",
      "MSE: 4.570435e-06\n"
     ]
    }
   ],
   "source": [
    "import numpy as np\n",
    "from sklearn.metrics import mean_squared_error\n",
    "\n",
    "# assume model and test set data are already defined\n",
    "\n",
    "# predict output on test set\n",
    "y_pred = model.predict(X_test)\n",
    "\n",
    "# calculate MSE\n",
    "mse = mean_squared_error(y_test,y_pred)\n",
    "y_test\n",
    "y_pred\n",
    "# print the result\n",
    "print(\"MSE:\", mse)"
   ]
  },
  {
   "cell_type": "code",
   "execution_count": 19,
   "id": "124a23e2",
   "metadata": {},
   "outputs": [
    {
     "data": {
      "text/plain": [
       "array([[0.        , 0.0018    ],\n",
       "       [0.0043    , 0.00083333]], dtype=float32)"
      ]
     },
     "execution_count": 19,
     "metadata": {},
     "output_type": "execute_result"
    }
   ],
   "source": [
    "y_test"
   ]
  },
  {
   "cell_type": "code",
   "execution_count": 20,
   "id": "cf6887ba",
   "metadata": {},
   "outputs": [
    {
     "data": {
      "text/plain": [
       "array([[ 0.00356461, -0.00016994],\n",
       "       [ 0.00299968,  0.00089461]], dtype=float32)"
      ]
     },
     "execution_count": 20,
     "metadata": {},
     "output_type": "execute_result"
    }
   ],
   "source": [
    "y_pred"
   ]
  },
  {
   "cell_type": "code",
   "execution_count": null,
   "id": "a479ee94",
   "metadata": {},
   "outputs": [],
   "source": []
  }
 ],
 "metadata": {
  "kernelspec": {
   "display_name": "Python 3 (ipykernel)",
   "language": "python",
   "name": "python3"
  },
  "language_info": {
   "codemirror_mode": {
    "name": "ipython",
    "version": 3
   },
   "file_extension": ".py",
   "mimetype": "text/x-python",
   "name": "python",
   "nbconvert_exporter": "python",
   "pygments_lexer": "ipython3",
   "version": "3.9.12"
  }
 },
 "nbformat": 4,
 "nbformat_minor": 5
}
