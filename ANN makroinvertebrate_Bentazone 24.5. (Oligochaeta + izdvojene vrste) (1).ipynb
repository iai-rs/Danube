{
 "cells": [
  {
   "cell_type": "code",
   "execution_count": 1,
   "id": "8a8001b3",
   "metadata": {},
   "outputs": [],
   "source": [
    "import pandas as pd\n",
    "import numpy as np\n",
    "import tensorflow as tf\n",
    "data = pd.read_csv(r\"C:\\Users\\ivana\\Downloads\\Ksenobiotici_makroinvertebrate.csv\",encoding='latin-1')"
   ]
  },
  {
   "cell_type": "code",
   "execution_count": 2,
   "id": "1caae0f6",
   "metadata": {},
   "outputs": [],
   "source": [
    "\n",
    "X = data.iloc[2:,[64,45,89,88,83,107,90,93,91]].values  \n",
    "y = data.iloc[2:,169].values \n",
    "X=X.astype(\"float32\")\n",
    "y=y.astype(\"float32\")"
   ]
  },
  {
   "cell_type": "code",
   "execution_count": 3,
   "id": "cff6a1f1",
   "metadata": {},
   "outputs": [
    {
     "data": {
      "text/plain": [
       "(106, 9)"
      ]
     },
     "execution_count": 3,
     "metadata": {},
     "output_type": "execute_result"
    }
   ],
   "source": [
    "\n",
    "X.shape"
   ]
  },
  {
   "cell_type": "code",
   "execution_count": 4,
   "id": "9d3698d6",
   "metadata": {},
   "outputs": [
    {
     "name": "stdout",
     "output_type": "stream",
     "text": [
      "[0.003 0.003 0.005 0.005 0.003 0.003 0.    0.    0.    0.    0.    0.\n",
      " 0.    0.    0.    0.    0.003 0.003 0.    0.    0.004 0.004 0.005 0.005\n",
      " 0.004 0.004 0.005 0.005 0.005 0.005 0.004 0.004 0.004 0.004 0.005 0.005\n",
      " 0.004 0.004 0.005 0.005 0.005 0.005 0.005 0.005 0.005 0.005 0.005 0.005\n",
      " 0.005 0.005 0.005 0.005 0.004 0.004 0.004 0.004 0.004 0.004 0.005 0.005\n",
      " 0.005 0.005 0.008 0.008 0.005 0.005 0.006 0.006 0.006 0.006 0.005 0.005\n",
      " 0.006 0.006 0.005 0.005 0.006 0.006 0.005 0.005 0.003 0.003 0.004 0.004\n",
      " 0.006 0.006 0.02  0.02  0.004 0.004 0.005 0.005 0.007 0.007 0.006 0.006\n",
      " 0.007 0.007 0.007 0.007 0.007 0.007 0.007 0.007 0.008 0.008]\n"
     ]
    },
    {
     "data": {
      "text/plain": [
       "(106,)"
      ]
     },
     "execution_count": 4,
     "metadata": {},
     "output_type": "execute_result"
    }
   ],
   "source": [
    "print (y)\n",
    "y.shape"
   ]
  },
  {
   "cell_type": "code",
   "execution_count": 5,
   "id": "12c6aea4",
   "metadata": {},
   "outputs": [
    {
     "data": {
      "text/plain": [
       "106"
      ]
     },
     "execution_count": 5,
     "metadata": {},
     "output_type": "execute_result"
    }
   ],
   "source": [
    "len(y)\n"
   ]
  },
  {
   "cell_type": "code",
   "execution_count": 6,
   "id": "ce980acd",
   "metadata": {},
   "outputs": [],
   "source": [
    "train_index=np.arange(0, X.shape[0])#train index svi indeksi\n",
    "test_index= np.random.randint(0, X.shape[0],10)#nasumice uzima 10 za test\n",
    "train_index=np.setdiff1d(train_index, test_index)#novi train indeks bez testa\n",
    "X_train=X[train_index,:]#sve vrednosti iz train seta\n",
    "X_test=X[test_index,:]\n",
    "y_train=y[train_index]\n",
    "y_test=y[test_index]"
   ]
  },
  {
   "cell_type": "code",
   "execution_count": 7,
   "id": "9a1b29a8",
   "metadata": {},
   "outputs": [
    {
     "data": {
      "text/plain": [
       "9"
      ]
     },
     "execution_count": 7,
     "metadata": {},
     "output_type": "execute_result"
    }
   ],
   "source": [
    "X.shape[1]\n"
   ]
  },
  {
   "cell_type": "code",
   "execution_count": 8,
   "id": "82a4a346",
   "metadata": {},
   "outputs": [
    {
     "name": "stdout",
     "output_type": "stream",
     "text": [
      "Epoch 1/200\n",
      "8/8 [==============================] - 0s 19ms/step - loss: 0.1418 - val_loss: 0.0557\n",
      "Epoch 2/200\n",
      "8/8 [==============================] - 0s 3ms/step - loss: 0.0339 - val_loss: 0.0107\n",
      "Epoch 3/200\n",
      "8/8 [==============================] - 0s 3ms/step - loss: 0.0121 - val_loss: 0.0153\n",
      "Epoch 4/200\n",
      "8/8 [==============================] - 0s 3ms/step - loss: 0.0152 - val_loss: 0.0152\n",
      "Epoch 5/200\n",
      "8/8 [==============================] - 0s 3ms/step - loss: 0.0112 - val_loss: 0.0082\n",
      "Epoch 6/200\n",
      "8/8 [==============================] - 0s 3ms/step - loss: 0.0069 - val_loss: 0.0046\n",
      "Epoch 7/200\n",
      "8/8 [==============================] - 0s 3ms/step - loss: 0.0056 - val_loss: 0.0036\n",
      "Epoch 8/200\n",
      "8/8 [==============================] - 0s 3ms/step - loss: 0.0047 - val_loss: 0.0031\n",
      "Epoch 9/200\n",
      "8/8 [==============================] - 0s 3ms/step - loss: 0.0036 - val_loss: 0.0029\n",
      "Epoch 10/200\n",
      "8/8 [==============================] - 0s 3ms/step - loss: 0.0030 - val_loss: 0.0027\n",
      "Epoch 11/200\n",
      "8/8 [==============================] - 0s 3ms/step - loss: 0.0025 - val_loss: 0.0024\n",
      "Epoch 12/200\n",
      "8/8 [==============================] - 0s 3ms/step - loss: 0.0021 - val_loss: 0.0022\n",
      "Epoch 13/200\n",
      "8/8 [==============================] - 0s 3ms/step - loss: 0.0018 - val_loss: 0.0020\n",
      "Epoch 14/200\n",
      "8/8 [==============================] - 0s 3ms/step - loss: 0.0016 - val_loss: 0.0019\n",
      "Epoch 15/200\n",
      "8/8 [==============================] - 0s 4ms/step - loss: 0.0015 - val_loss: 0.0019\n",
      "Epoch 16/200\n",
      "8/8 [==============================] - 0s 3ms/step - loss: 0.0014 - val_loss: 0.0017\n",
      "Epoch 17/200\n",
      "8/8 [==============================] - 0s 3ms/step - loss: 0.0013 - val_loss: 0.0017\n",
      "Epoch 18/200\n",
      "8/8 [==============================] - 0s 3ms/step - loss: 0.0012 - val_loss: 0.0015\n",
      "Epoch 19/200\n",
      "8/8 [==============================] - 0s 3ms/step - loss: 0.0011 - val_loss: 0.0013\n",
      "Epoch 20/200\n",
      "8/8 [==============================] - 0s 3ms/step - loss: 9.5985e-04 - val_loss: 0.0012\n",
      "Epoch 21/200\n",
      "8/8 [==============================] - 0s 3ms/step - loss: 8.6159e-04 - val_loss: 0.0011\n",
      "Epoch 22/200\n",
      "8/8 [==============================] - 0s 4ms/step - loss: 7.9082e-04 - val_loss: 0.0010\n",
      "Epoch 23/200\n",
      "8/8 [==============================] - 0s 3ms/step - loss: 7.7689e-04 - val_loss: 0.0010\n",
      "Epoch 24/200\n",
      "8/8 [==============================] - 0s 3ms/step - loss: 7.1416e-04 - val_loss: 9.7452e-04\n",
      "Epoch 25/200\n",
      "8/8 [==============================] - 0s 3ms/step - loss: 7.0428e-04 - val_loss: 9.3466e-04\n",
      "Epoch 26/200\n",
      "8/8 [==============================] - 0s 3ms/step - loss: 6.3884e-04 - val_loss: 9.2962e-04\n",
      "Epoch 27/200\n",
      "8/8 [==============================] - 0s 3ms/step - loss: 6.1526e-04 - val_loss: 9.2232e-04\n",
      "Epoch 28/200\n",
      "8/8 [==============================] - 0s 3ms/step - loss: 5.9323e-04 - val_loss: 8.7897e-04\n",
      "Epoch 29/200\n",
      "8/8 [==============================] - 0s 3ms/step - loss: 5.7431e-04 - val_loss: 8.5164e-04\n",
      "Epoch 30/200\n",
      "8/8 [==============================] - 0s 3ms/step - loss: 5.3932e-04 - val_loss: 8.3867e-04\n",
      "Epoch 31/200\n",
      "8/8 [==============================] - 0s 3ms/step - loss: 5.1218e-04 - val_loss: 8.2179e-04\n",
      "Epoch 32/200\n",
      "8/8 [==============================] - 0s 3ms/step - loss: 4.9175e-04 - val_loss: 7.9444e-04\n",
      "Epoch 33/200\n",
      "8/8 [==============================] - 0s 3ms/step - loss: 4.7569e-04 - val_loss: 7.6646e-04\n",
      "Epoch 34/200\n",
      "8/8 [==============================] - 0s 3ms/step - loss: 4.5602e-04 - val_loss: 7.5279e-04\n",
      "Epoch 35/200\n",
      "8/8 [==============================] - 0s 3ms/step - loss: 4.3964e-04 - val_loss: 7.3863e-04\n",
      "Epoch 36/200\n",
      "8/8 [==============================] - 0s 3ms/step - loss: 4.4172e-04 - val_loss: 7.1964e-04\n",
      "Epoch 37/200\n",
      "8/8 [==============================] - 0s 3ms/step - loss: 4.0223e-04 - val_loss: 7.0263e-04\n",
      "Epoch 38/200\n",
      "8/8 [==============================] - 0s 3ms/step - loss: 3.9221e-04 - val_loss: 6.8932e-04\n",
      "Epoch 39/200\n",
      "8/8 [==============================] - 0s 3ms/step - loss: 3.8258e-04 - val_loss: 6.6142e-04\n",
      "Epoch 40/200\n",
      "8/8 [==============================] - 0s 3ms/step - loss: 3.7241e-04 - val_loss: 6.4351e-04\n",
      "Epoch 41/200\n",
      "8/8 [==============================] - 0s 3ms/step - loss: 3.5184e-04 - val_loss: 6.2526e-04\n",
      "Epoch 42/200\n",
      "8/8 [==============================] - 0s 4ms/step - loss: 3.4593e-04 - val_loss: 6.0725e-04\n",
      "Epoch 43/200\n",
      "8/8 [==============================] - 0s 3ms/step - loss: 3.3201e-04 - val_loss: 5.9569e-04\n",
      "Epoch 44/200\n",
      "8/8 [==============================] - 0s 3ms/step - loss: 3.2185e-04 - val_loss: 5.8181e-04\n",
      "Epoch 45/200\n",
      "8/8 [==============================] - 0s 3ms/step - loss: 3.1129e-04 - val_loss: 5.7023e-04\n",
      "Epoch 46/200\n",
      "8/8 [==============================] - 0s 3ms/step - loss: 3.0362e-04 - val_loss: 5.5493e-04\n",
      "Epoch 47/200\n",
      "8/8 [==============================] - 0s 3ms/step - loss: 2.9406e-04 - val_loss: 5.3829e-04\n",
      "Epoch 48/200\n",
      "8/8 [==============================] - 0s 3ms/step - loss: 2.8435e-04 - val_loss: 5.2873e-04\n",
      "Epoch 49/200\n",
      "8/8 [==============================] - 0s 4ms/step - loss: 2.8470e-04 - val_loss: 5.2134e-04\n",
      "Epoch 50/200\n",
      "8/8 [==============================] - 0s 3ms/step - loss: 2.6265e-04 - val_loss: 5.0678e-04\n",
      "Epoch 51/200\n",
      "8/8 [==============================] - 0s 4ms/step - loss: 2.6419e-04 - val_loss: 4.9568e-04\n",
      "Epoch 52/200\n",
      "8/8 [==============================] - 0s 3ms/step - loss: 2.4699e-04 - val_loss: 4.8843e-04\n",
      "Epoch 53/200\n",
      "8/8 [==============================] - 0s 4ms/step - loss: 2.4888e-04 - val_loss: 4.8136e-04\n",
      "Epoch 54/200\n",
      "8/8 [==============================] - 0s 3ms/step - loss: 2.4094e-04 - val_loss: 4.6458e-04\n",
      "Epoch 55/200\n",
      "8/8 [==============================] - 0s 3ms/step - loss: 2.3014e-04 - val_loss: 4.5997e-04\n",
      "Epoch 56/200\n",
      "8/8 [==============================] - 0s 3ms/step - loss: 2.2651e-04 - val_loss: 4.4712e-04\n",
      "Epoch 57/200\n",
      "8/8 [==============================] - 0s 2ms/step - loss: 2.3658e-04 - val_loss: 4.4825e-04\n",
      "Epoch 58/200\n",
      "8/8 [==============================] - 0s 4ms/step - loss: 2.0204e-04 - val_loss: 4.2655e-04\n",
      "Epoch 59/200\n",
      "8/8 [==============================] - 0s 3ms/step - loss: 2.1614e-04 - val_loss: 4.2095e-04\n",
      "Epoch 60/200\n",
      "8/8 [==============================] - 0s 2ms/step - loss: 1.9896e-04 - val_loss: 4.1547e-04\n",
      "Epoch 61/200\n",
      "8/8 [==============================] - 0s 4ms/step - loss: 1.9259e-04 - val_loss: 4.0260e-04\n",
      "Epoch 62/200\n",
      "8/8 [==============================] - 0s 3ms/step - loss: 1.8559e-04 - val_loss: 3.9861e-04\n",
      "Epoch 63/200\n",
      "8/8 [==============================] - 0s 3ms/step - loss: 1.8162e-04 - val_loss: 3.8719e-04\n",
      "Epoch 64/200\n",
      "8/8 [==============================] - 0s 3ms/step - loss: 1.7643e-04 - val_loss: 3.8041e-04\n",
      "Epoch 65/200\n",
      "8/8 [==============================] - 0s 3ms/step - loss: 1.6235e-04 - val_loss: 3.7284e-04\n",
      "Epoch 66/200\n",
      "8/8 [==============================] - 0s 3ms/step - loss: 1.6442e-04 - val_loss: 3.5833e-04\n",
      "Epoch 67/200\n",
      "8/8 [==============================] - 0s 3ms/step - loss: 1.5892e-04 - val_loss: 3.5524e-04\n",
      "Epoch 68/200\n",
      "8/8 [==============================] - 0s 3ms/step - loss: 1.5525e-04 - val_loss: 3.4896e-04\n",
      "Epoch 69/200\n",
      "8/8 [==============================] - 0s 3ms/step - loss: 1.4961e-04 - val_loss: 3.4090e-04\n",
      "Epoch 70/200\n",
      "8/8 [==============================] - 0s 3ms/step - loss: 1.4400e-04 - val_loss: 3.3327e-04\n",
      "Epoch 71/200\n",
      "8/8 [==============================] - 0s 3ms/step - loss: 1.4852e-04 - val_loss: 3.2884e-04\n",
      "Epoch 72/200\n",
      "8/8 [==============================] - 0s 3ms/step - loss: 1.4036e-04 - val_loss: 3.2048e-04\n",
      "Epoch 73/200\n",
      "8/8 [==============================] - 0s 3ms/step - loss: 1.3927e-04 - val_loss: 3.1536e-04\n",
      "Epoch 74/200\n",
      "8/8 [==============================] - 0s 3ms/step - loss: 1.3698e-04 - val_loss: 3.1728e-04\n",
      "Epoch 75/200\n",
      "8/8 [==============================] - 0s 3ms/step - loss: 1.3173e-04 - val_loss: 3.0242e-04\n",
      "Epoch 76/200\n",
      "8/8 [==============================] - 0s 3ms/step - loss: 1.2738e-04 - val_loss: 3.0303e-04\n",
      "Epoch 77/200\n",
      "8/8 [==============================] - 0s 3ms/step - loss: 1.3071e-04 - val_loss: 2.9377e-04\n",
      "Epoch 78/200\n",
      "8/8 [==============================] - 0s 3ms/step - loss: 1.2848e-04 - val_loss: 2.9521e-04\n",
      "Epoch 79/200\n",
      "8/8 [==============================] - 0s 3ms/step - loss: 1.2031e-04 - val_loss: 2.8414e-04\n"
     ]
    },
    {
     "name": "stdout",
     "output_type": "stream",
     "text": [
      "Epoch 80/200\n",
      "8/8 [==============================] - 0s 2ms/step - loss: 1.1629e-04 - val_loss: 2.8044e-04\n",
      "Epoch 81/200\n",
      "8/8 [==============================] - 0s 4ms/step - loss: 1.1511e-04 - val_loss: 2.7342e-04\n",
      "Epoch 82/200\n",
      "8/8 [==============================] - 0s 3ms/step - loss: 1.1581e-04 - val_loss: 2.6685e-04\n",
      "Epoch 83/200\n",
      "8/8 [==============================] - 0s 3ms/step - loss: 1.0909e-04 - val_loss: 2.6309e-04\n",
      "Epoch 84/200\n",
      "8/8 [==============================] - 0s 3ms/step - loss: 1.1124e-04 - val_loss: 2.6412e-04\n",
      "Epoch 85/200\n",
      "8/8 [==============================] - 0s 3ms/step - loss: 1.0316e-04 - val_loss: 2.5221e-04\n",
      "Epoch 86/200\n",
      "8/8 [==============================] - 0s 3ms/step - loss: 1.0380e-04 - val_loss: 2.5408e-04\n",
      "Epoch 87/200\n",
      "8/8 [==============================] - 0s 3ms/step - loss: 9.8189e-05 - val_loss: 2.4268e-04\n",
      "Epoch 88/200\n",
      "8/8 [==============================] - 0s 3ms/step - loss: 9.5512e-05 - val_loss: 2.4492e-04\n",
      "Epoch 89/200\n",
      "8/8 [==============================] - 0s 3ms/step - loss: 9.4481e-05 - val_loss: 2.3796e-04\n",
      "Epoch 90/200\n",
      "8/8 [==============================] - 0s 3ms/step - loss: 9.2216e-05 - val_loss: 2.3121e-04\n",
      "Epoch 91/200\n",
      "8/8 [==============================] - 0s 3ms/step - loss: 9.8425e-05 - val_loss: 2.2929e-04\n",
      "Epoch 92/200\n",
      "8/8 [==============================] - 0s 3ms/step - loss: 9.1525e-05 - val_loss: 2.2344e-04\n",
      "Epoch 93/200\n",
      "8/8 [==============================] - 0s 2ms/step - loss: 9.3747e-05 - val_loss: 2.3100e-04\n",
      "Epoch 94/200\n",
      "8/8 [==============================] - 0s 5ms/step - loss: 8.6655e-05 - val_loss: 2.1402e-04\n",
      "Epoch 95/200\n",
      "8/8 [==============================] - 0s 3ms/step - loss: 8.4051e-05 - val_loss: 2.1267e-04\n",
      "Epoch 96/200\n",
      "8/8 [==============================] - 0s 3ms/step - loss: 8.3296e-05 - val_loss: 2.0561e-04\n",
      "Epoch 97/200\n",
      "8/8 [==============================] - 0s 3ms/step - loss: 8.1796e-05 - val_loss: 2.1040e-04\n",
      "Epoch 98/200\n",
      "8/8 [==============================] - 0s 3ms/step - loss: 8.3461e-05 - val_loss: 1.9984e-04\n",
      "Epoch 99/200\n",
      "8/8 [==============================] - 0s 3ms/step - loss: 8.3145e-05 - val_loss: 2.0064e-04\n",
      "Epoch 100/200\n",
      "8/8 [==============================] - 0s 3ms/step - loss: 7.5422e-05 - val_loss: 1.9218e-04\n",
      "Epoch 101/200\n",
      "8/8 [==============================] - 0s 3ms/step - loss: 7.7735e-05 - val_loss: 1.9394e-04\n",
      "Epoch 102/200\n",
      "8/8 [==============================] - 0s 3ms/step - loss: 7.6006e-05 - val_loss: 1.8361e-04\n",
      "Epoch 103/200\n",
      "8/8 [==============================] - 0s 3ms/step - loss: 7.3320e-05 - val_loss: 1.9179e-04\n",
      "Epoch 104/200\n",
      "8/8 [==============================] - 0s 3ms/step - loss: 7.5744e-05 - val_loss: 1.8474e-04\n",
      "Epoch 105/200\n",
      "8/8 [==============================] - 0s 3ms/step - loss: 7.1544e-05 - val_loss: 1.7522e-04\n",
      "Epoch 106/200\n",
      "8/8 [==============================] - 0s 3ms/step - loss: 7.0265e-05 - val_loss: 1.8275e-04\n",
      "Epoch 107/200\n",
      "8/8 [==============================] - 0s 3ms/step - loss: 7.4870e-05 - val_loss: 1.8379e-04\n",
      "Epoch 108/200\n",
      "8/8 [==============================] - 0s 2ms/step - loss: 6.9019e-05 - val_loss: 1.7151e-04\n",
      "Epoch 109/200\n",
      "8/8 [==============================] - 0s 4ms/step - loss: 6.3895e-05 - val_loss: 1.7107e-04\n",
      "Epoch 110/200\n",
      "8/8 [==============================] - 0s 3ms/step - loss: 6.2954e-05 - val_loss: 1.7338e-04\n",
      "Epoch 111/200\n",
      "8/8 [==============================] - 0s 3ms/step - loss: 6.1388e-05 - val_loss: 1.6640e-04\n",
      "Epoch 112/200\n",
      "8/8 [==============================] - 0s 3ms/step - loss: 5.3515e-05 - val_loss: 1.6304e-04\n",
      "Epoch 113/200\n",
      "8/8 [==============================] - 0s 3ms/step - loss: 5.6541e-05 - val_loss: 1.6150e-04\n",
      "Epoch 114/200\n",
      "8/8 [==============================] - 0s 3ms/step - loss: 5.2326e-05 - val_loss: 1.5976e-04\n",
      "Epoch 115/200\n",
      "8/8 [==============================] - 0s 3ms/step - loss: 5.0225e-05 - val_loss: 1.6198e-04\n",
      "Epoch 116/200\n",
      "8/8 [==============================] - 0s 3ms/step - loss: 4.6873e-05 - val_loss: 1.5187e-04\n",
      "Epoch 117/200\n",
      "8/8 [==============================] - 0s 3ms/step - loss: 4.3943e-05 - val_loss: 1.5466e-04\n",
      "Epoch 118/200\n",
      "8/8 [==============================] - 0s 3ms/step - loss: 4.2777e-05 - val_loss: 1.5088e-04\n",
      "Epoch 119/200\n",
      "8/8 [==============================] - 0s 3ms/step - loss: 4.0696e-05 - val_loss: 1.4902e-04\n",
      "Epoch 120/200\n",
      "8/8 [==============================] - 0s 3ms/step - loss: 4.1703e-05 - val_loss: 1.4549e-04\n",
      "Epoch 121/200\n",
      "8/8 [==============================] - 0s 3ms/step - loss: 3.8541e-05 - val_loss: 1.4917e-04\n",
      "Epoch 122/200\n",
      "8/8 [==============================] - 0s 3ms/step - loss: 3.8433e-05 - val_loss: 1.4057e-04\n",
      "Epoch 123/200\n",
      "8/8 [==============================] - 0s 3ms/step - loss: 3.6339e-05 - val_loss: 1.4208e-04\n",
      "Epoch 124/200\n",
      "8/8 [==============================] - 0s 3ms/step - loss: 3.7332e-05 - val_loss: 1.4004e-04\n",
      "Epoch 125/200\n",
      "8/8 [==============================] - 0s 3ms/step - loss: 3.5311e-05 - val_loss: 1.3559e-04\n",
      "Epoch 126/200\n",
      "8/8 [==============================] - 0s 3ms/step - loss: 3.5722e-05 - val_loss: 1.3762e-04\n",
      "Epoch 127/200\n",
      "8/8 [==============================] - 0s 3ms/step - loss: 3.6412e-05 - val_loss: 1.3198e-04\n",
      "Epoch 128/200\n",
      "8/8 [==============================] - 0s 3ms/step - loss: 3.6590e-05 - val_loss: 1.3267e-04\n",
      "Epoch 129/200\n",
      "8/8 [==============================] - 0s 2ms/step - loss: 3.3905e-05 - val_loss: 1.2801e-04\n",
      "Epoch 130/200\n",
      "8/8 [==============================] - 0s 3ms/step - loss: 3.2444e-05 - val_loss: 1.2747e-04\n",
      "Epoch 131/200\n",
      "8/8 [==============================] - 0s 3ms/step - loss: 3.0879e-05 - val_loss: 1.2466e-04\n",
      "Epoch 132/200\n",
      "8/8 [==============================] - 0s 3ms/step - loss: 3.0836e-05 - val_loss: 1.2215e-04\n",
      "Epoch 133/200\n",
      "8/8 [==============================] - 0s 3ms/step - loss: 2.8886e-05 - val_loss: 1.2400e-04\n",
      "Epoch 134/200\n",
      "8/8 [==============================] - 0s 3ms/step - loss: 2.9835e-05 - val_loss: 1.1888e-04\n",
      "Epoch 135/200\n",
      "8/8 [==============================] - 0s 3ms/step - loss: 2.8236e-05 - val_loss: 1.1823e-04\n",
      "Epoch 136/200\n",
      "8/8 [==============================] - 0s 3ms/step - loss: 2.8175e-05 - val_loss: 1.1610e-04\n",
      "Epoch 137/200\n",
      "8/8 [==============================] - 0s 3ms/step - loss: 2.7109e-05 - val_loss: 1.1507e-04\n",
      "Epoch 138/200\n",
      "8/8 [==============================] - 0s 3ms/step - loss: 2.6749e-05 - val_loss: 1.1091e-04\n",
      "Epoch 139/200\n",
      "8/8 [==============================] - 0s 3ms/step - loss: 2.6135e-05 - val_loss: 1.1160e-04\n",
      "Epoch 140/200\n",
      "8/8 [==============================] - 0s 3ms/step - loss: 2.6860e-05 - val_loss: 1.0921e-04\n",
      "Epoch 141/200\n",
      "8/8 [==============================] - 0s 3ms/step - loss: 2.5687e-05 - val_loss: 1.0524e-04\n",
      "Epoch 142/200\n",
      "8/8 [==============================] - 0s 3ms/step - loss: 2.5657e-05 - val_loss: 1.0794e-04\n",
      "Epoch 143/200\n",
      "8/8 [==============================] - 0s 3ms/step - loss: 2.5433e-05 - val_loss: 1.0342e-04\n",
      "Epoch 144/200\n",
      "8/8 [==============================] - 0s 3ms/step - loss: 2.7606e-05 - val_loss: 1.0276e-04\n",
      "Epoch 145/200\n",
      "8/8 [==============================] - 0s 3ms/step - loss: 2.7168e-05 - val_loss: 1.0157e-04\n",
      "Epoch 146/200\n",
      "8/8 [==============================] - 0s 3ms/step - loss: 2.3747e-05 - val_loss: 1.0293e-04\n",
      "Epoch 147/200\n",
      "8/8 [==============================] - 0s 3ms/step - loss: 2.3142e-05 - val_loss: 9.9074e-05\n",
      "Epoch 148/200\n",
      "8/8 [==============================] - 0s 3ms/step - loss: 2.2650e-05 - val_loss: 9.7787e-05\n",
      "Epoch 149/200\n",
      "8/8 [==============================] - 0s 3ms/step - loss: 2.2688e-05 - val_loss: 9.5394e-05\n",
      "Epoch 150/200\n",
      "8/8 [==============================] - 0s 3ms/step - loss: 2.2825e-05 - val_loss: 9.4664e-05\n",
      "Epoch 151/200\n",
      "8/8 [==============================] - 0s 3ms/step - loss: 2.3093e-05 - val_loss: 9.3585e-05\n",
      "Epoch 152/200\n",
      "8/8 [==============================] - 0s 3ms/step - loss: 2.1622e-05 - val_loss: 9.2339e-05\n",
      "Epoch 153/200\n",
      "8/8 [==============================] - 0s 3ms/step - loss: 2.1795e-05 - val_loss: 9.1390e-05\n",
      "Epoch 154/200\n",
      "8/8 [==============================] - 0s 3ms/step - loss: 2.1595e-05 - val_loss: 8.9743e-05\n",
      "Epoch 155/200\n",
      "8/8 [==============================] - 0s 3ms/step - loss: 2.1210e-05 - val_loss: 8.8632e-05\n",
      "Epoch 156/200\n",
      "8/8 [==============================] - 0s 3ms/step - loss: 2.0146e-05 - val_loss: 8.7298e-05\n"
     ]
    },
    {
     "name": "stdout",
     "output_type": "stream",
     "text": [
      "Epoch 157/200\n",
      "8/8 [==============================] - 0s 3ms/step - loss: 1.9194e-05 - val_loss: 8.4807e-05\n",
      "Epoch 158/200\n",
      "8/8 [==============================] - 0s 3ms/step - loss: 1.9730e-05 - val_loss: 8.6018e-05\n",
      "Epoch 159/200\n",
      "8/8 [==============================] - 0s 3ms/step - loss: 2.0410e-05 - val_loss: 8.3039e-05\n",
      "Epoch 160/200\n",
      "8/8 [==============================] - 0s 3ms/step - loss: 2.1321e-05 - val_loss: 8.2954e-05\n",
      "Epoch 161/200\n",
      "8/8 [==============================] - 0s 3ms/step - loss: 2.3778e-05 - val_loss: 8.1098e-05\n",
      "Epoch 162/200\n",
      "8/8 [==============================] - 0s 3ms/step - loss: 2.2216e-05 - val_loss: 8.1518e-05\n",
      "Epoch 163/200\n",
      "8/8 [==============================] - 0s 3ms/step - loss: 1.8805e-05 - val_loss: 8.1374e-05\n",
      "Epoch 164/200\n",
      "8/8 [==============================] - 0s 3ms/step - loss: 1.8893e-05 - val_loss: 7.9989e-05\n",
      "Epoch 165/200\n",
      "8/8 [==============================] - 0s 3ms/step - loss: 1.7620e-05 - val_loss: 7.4475e-05\n",
      "Epoch 166/200\n",
      "8/8 [==============================] - 0s 3ms/step - loss: 2.1997e-05 - val_loss: 7.6397e-05\n",
      "Epoch 167/200\n",
      "8/8 [==============================] - 0s 2ms/step - loss: 1.7673e-05 - val_loss: 7.9232e-05\n",
      "Epoch 168/200\n",
      "8/8 [==============================] - 0s 4ms/step - loss: 2.1706e-05 - val_loss: 7.7876e-05\n",
      "Epoch 169/200\n",
      "8/8 [==============================] - 0s 3ms/step - loss: 1.6220e-05 - val_loss: 7.1241e-05\n",
      "Epoch 170/200\n",
      "8/8 [==============================] - 0s 3ms/step - loss: 1.9131e-05 - val_loss: 7.4127e-05\n",
      "Epoch 171/200\n",
      "8/8 [==============================] - 0s 3ms/step - loss: 1.7034e-05 - val_loss: 7.4099e-05\n",
      "Epoch 172/200\n",
      "8/8 [==============================] - 0s 2ms/step - loss: 1.6238e-05 - val_loss: 6.8174e-05\n",
      "Epoch 173/200\n",
      "8/8 [==============================] - 0s 5ms/step - loss: 1.7803e-05 - val_loss: 7.3093e-05\n",
      "Epoch 174/200\n",
      "8/8 [==============================] - 0s 3ms/step - loss: 1.5777e-05 - val_loss: 7.1200e-05\n",
      "Epoch 175/200\n",
      "8/8 [==============================] - 0s 3ms/step - loss: 1.5336e-05 - val_loss: 7.0890e-05\n",
      "Epoch 176/200\n",
      "8/8 [==============================] - 0s 3ms/step - loss: 1.5466e-05 - val_loss: 6.9352e-05\n",
      "Epoch 177/200\n",
      "8/8 [==============================] - 0s 3ms/step - loss: 1.3747e-05 - val_loss: 6.9111e-05\n",
      "Epoch 178/200\n",
      "8/8 [==============================] - 0s 3ms/step - loss: 1.7585e-05 - val_loss: 8.0295e-05\n",
      "Epoch 179/200\n",
      "8/8 [==============================] - 0s 2ms/step - loss: 2.0719e-05 - val_loss: 8.3747e-05\n",
      "Epoch 180/200\n",
      "8/8 [==============================] - 0s 3ms/step - loss: 1.6655e-05 - val_loss: 8.2977e-05\n",
      "Epoch 181/200\n",
      "8/8 [==============================] - 0s 3ms/step - loss: 1.4214e-05 - val_loss: 8.2217e-05\n",
      "Epoch 182/200\n",
      "8/8 [==============================] - 0s 3ms/step - loss: 1.4964e-05 - val_loss: 8.3105e-05\n",
      "Epoch 183/200\n",
      "8/8 [==============================] - 0s 2ms/step - loss: 1.3981e-05 - val_loss: 8.4245e-05\n",
      "Epoch 184/200\n",
      "8/8 [==============================] - 0s 4ms/step - loss: 1.3601e-05 - val_loss: 8.2250e-05\n",
      "Epoch 185/200\n",
      "8/8 [==============================] - 0s 3ms/step - loss: 1.4573e-05 - val_loss: 8.2771e-05\n",
      "Epoch 186/200\n",
      "8/8 [==============================] - 0s 3ms/step - loss: 1.6553e-05 - val_loss: 8.2276e-05\n",
      "Epoch 187/200\n",
      "8/8 [==============================] - 0s 3ms/step - loss: 1.9416e-05 - val_loss: 8.1934e-05\n",
      "Epoch 188/200\n",
      "8/8 [==============================] - 0s 3ms/step - loss: 1.5456e-05 - val_loss: 8.0276e-05\n",
      "Epoch 189/200\n",
      "8/8 [==============================] - 0s 2ms/step - loss: 1.2330e-05 - val_loss: 7.9688e-05\n",
      "Epoch 190/200\n",
      "8/8 [==============================] - 0s 3ms/step - loss: 1.2776e-05 - val_loss: 8.0210e-05\n",
      "Epoch 191/200\n",
      "8/8 [==============================] - 0s 3ms/step - loss: 1.2343e-05 - val_loss: 7.9156e-05\n",
      "Epoch 192/200\n",
      "8/8 [==============================] - 0s 3ms/step - loss: 1.2053e-05 - val_loss: 7.9364e-05\n",
      "Epoch 193/200\n",
      "8/8 [==============================] - 0s 3ms/step - loss: 1.3260e-05 - val_loss: 7.9856e-05\n",
      "Epoch 194/200\n",
      "8/8 [==============================] - 0s 3ms/step - loss: 1.2357e-05 - val_loss: 7.8429e-05\n",
      "Epoch 195/200\n",
      "8/8 [==============================] - 0s 3ms/step - loss: 1.1748e-05 - val_loss: 7.9250e-05\n",
      "Epoch 196/200\n",
      "8/8 [==============================] - 0s 1ms/step - loss: 1.1717e-05 - val_loss: 7.7919e-05\n",
      "Epoch 197/200\n",
      "8/8 [==============================] - 0s 3ms/step - loss: 1.1922e-05 - val_loss: 7.9586e-05\n",
      "Epoch 198/200\n",
      "8/8 [==============================] - 0s 3ms/step - loss: 1.2218e-05 - val_loss: 7.7330e-05\n",
      "Epoch 199/200\n",
      "8/8 [==============================] - 0s 3ms/step - loss: 1.1475e-05 - val_loss: 7.7055e-05\n",
      "Epoch 200/200\n",
      "8/8 [==============================] - 0s 3ms/step - loss: 1.1676e-05 - val_loss: 7.7025e-05\n"
     ]
    },
    {
     "data": {
      "image/png": "[encoded data removed]",
      "text/plain": [
       "<Figure size 432x288 with 1 Axes>"
      ]
     },
     "metadata": {
      "needs_background": "light"
     },
     "output_type": "display_data"
    }
   ],
   "source": [
    "import numpy as np\n",
    "from keras.models import Sequential\n",
    "from keras.layers import Dense\n",
    "import matplotlib.pyplot as plt\n",
    "\n",
    "# define the model\n",
    "model = Sequential()\n",
    "\n",
    "#model.add(Dense(8, activation='sigmoid'))\n",
    "model.add(Dense(12, activation='sigmoid'))\n",
    "model.add(Dense(30, activation='sigmoid'))\n",
    "model.add(Dense(1, activation='linear'))\n",
    "\n",
    "\n",
    "tf.random.set_seed(12345)\n",
    "model.compile(loss='mean_squared_error', optimizer=tf.keras.optimizers.Adam(0.001))\n",
    "#learning rate 0.001\n",
    "\n",
    "history=model.fit(X_train, y_train, epochs=200, batch_size=10, verbose=1, validation_split = 0.2)\n",
    "\n",
    "hist = pd.DataFrame(history.history)#beleži obuku po epohama\n",
    "hist['epoch'] = history.epoch\n",
    "\n",
    "plt.plot(history.history['loss'], label='loss')\n",
    "plt.plot(history.history['val_loss'], label='val_loss')\n",
    "\n",
    "plt.xlabel('Epoch')\n",
    "plt.ylabel('Error [Bromacil]')\n",
    "plt.legend()\n",
    "plt.grid(True)"
   ]
  },
  {
   "cell_type": "code",
   "execution_count": 9,
   "id": "12b1af27",
   "metadata": {},
   "outputs": [
    {
     "data": {
      "text/plain": [
       "0.0015216490719467402"
      ]
     },
     "execution_count": 9,
     "metadata": {},
     "output_type": "execute_result"
    }
   ],
   "source": [
    "history=model.evaluate(X_test, y_test, batch_size=10, verbose=0)\n",
    "history\n"
   ]
  },
  {
   "cell_type": "code",
   "execution_count": 10,
   "id": "52f0dd27",
   "metadata": {},
   "outputs": [
    {
     "data": {
      "text/plain": [
       "array([[0.000e+00, 4.100e+01, 1.000e+00, 0.000e+00, 0.000e+00, 0.000e+00,\n",
       "        0.000e+00, 0.000e+00, 0.000e+00],\n",
       "       [0.000e+00, 0.000e+00, 0.000e+00, 0.000e+00, 0.000e+00, 0.000e+00,\n",
       "        0.000e+00, 0.000e+00, 0.000e+00],\n",
       "       [0.000e+00, 0.000e+00, 4.100e+01, 0.000e+00, 0.000e+00, 0.000e+00,\n",
       "        2.000e+00, 0.000e+00, 0.000e+00],\n",
       "       [0.000e+00, 1.000e+00, 2.200e+01, 0.000e+00, 0.000e+00, 4.000e+00,\n",
       "        4.000e+00, 0.000e+00, 1.000e+01],\n",
       "       [0.000e+00, 0.000e+00, 1.200e+01, 0.000e+00, 0.000e+00, 0.000e+00,\n",
       "        0.000e+00, 0.000e+00, 0.000e+00],\n",
       "       [1.630e+02, 0.000e+00, 2.500e+02, 1.100e+01, 0.000e+00, 0.000e+00,\n",
       "        1.100e+01, 0.000e+00, 0.000e+00],\n",
       "       [0.000e+00, 0.000e+00, 1.390e+02, 0.000e+00, 1.700e+01, 0.000e+00,\n",
       "        9.000e+00, 0.000e+00, 0.000e+00],\n",
       "       [6.500e+01, 1.000e+01, 8.500e+01, 0.000e+00, 0.000e+00, 0.000e+00,\n",
       "        0.000e+00, 1.410e+02, 0.000e+00],\n",
       "       [0.000e+00, 0.000e+00, 1.000e+01, 0.000e+00, 0.000e+00, 0.000e+00,\n",
       "        0.000e+00, 0.000e+00, 0.000e+00],\n",
       "       [3.010e+02, 6.000e+00, 1.303e+03, 1.400e+02, 0.000e+00, 0.000e+00,\n",
       "        4.000e+01, 0.000e+00, 0.000e+00]], dtype=float32)"
      ]
     },
     "execution_count": 10,
     "metadata": {},
     "output_type": "execute_result"
    }
   ],
   "source": [
    "X_test\n",
    "\n"
   ]
  },
  {
   "cell_type": "code",
   "execution_count": 11,
   "id": "96e075ab",
   "metadata": {},
   "outputs": [
    {
     "data": {
      "text/plain": [
       "array([15, 86, 45, 70, 68, 92, 58, 81, 10, 20])"
      ]
     },
     "execution_count": 11,
     "metadata": {},
     "output_type": "execute_result"
    }
   ],
   "source": [
    "test_index"
   ]
  },
  {
   "cell_type": "code",
   "execution_count": 12,
   "id": "3abf8673",
   "metadata": {},
   "outputs": [
    {
     "data": {
      "text/plain": [
       "array([ 0.,  1., 84.,  0.,  0.,  0.,  0.,  0.,  0.], dtype=float32)"
      ]
     },
     "execution_count": 12,
     "metadata": {},
     "output_type": "execute_result"
    }
   ],
   "source": [
    "X[73,:]"
   ]
  },
  {
   "cell_type": "code",
   "execution_count": 13,
   "id": "09dfa67d",
   "metadata": {},
   "outputs": [
    {
     "name": "stdout",
     "output_type": "stream",
     "text": [
      "1/1 [==============================] - 0s 62ms/step\n"
     ]
    },
    {
     "data": {
      "text/plain": [
       "array([[ 0.0030338 ],\n",
       "       [ 0.00149028],\n",
       "       [ 0.00342498],\n",
       "       [ 0.01465081],\n",
       "       [-0.00095382],\n",
       "       [-0.02133488],\n",
       "       [ 0.00506162],\n",
       "       [-0.11496598],\n",
       "       [ 0.0008623 ],\n",
       "       [ 0.0050626 ]], dtype=float32)"
      ]
     },
     "execution_count": 13,
     "metadata": {},
     "output_type": "execute_result"
    }
   ],
   "source": [
    "y_predict=model.predict(X_test)\n",
    "\n",
    "y_predict"
   ]
  },
  {
   "cell_type": "code",
   "execution_count": 14,
   "id": "61f79b76",
   "metadata": {},
   "outputs": [
    {
     "data": {
      "text/plain": [
       "array([0.   , 0.02 , 0.005, 0.005, 0.006, 0.007, 0.005, 0.003, 0.   ,\n",
       "       0.004], dtype=float32)"
      ]
     },
     "execution_count": 14,
     "metadata": {},
     "output_type": "execute_result"
    }
   ],
   "source": [
    "y_test"
   ]
  },
  {
   "cell_type": "code",
   "execution_count": 15,
   "id": "b376a920",
   "metadata": {},
   "outputs": [
    {
     "name": "stdout",
     "output_type": "stream",
     "text": [
      "1/1 [==============================] - 0s 64ms/step - loss: 0.0015\n"
     ]
    },
    {
     "data": {
      "text/plain": [
       "0.0015216490719467402"
      ]
     },
     "execution_count": 15,
     "metadata": {},
     "output_type": "execute_result"
    }
   ],
   "source": [
    "y_predict=model.evaluate(X_test,y_test)\n",
    "\n",
    "y_predict #ukupna greška(MSE)za ceo test skup "
   ]
  },
  {
   "cell_type": "code",
   "execution_count": 16,
   "id": "8e7c439a",
   "metadata": {},
   "outputs": [
    {
     "data": {
      "text/plain": [
       "array([0., 0., 0., 0., 0., 0., 0., 0., 0.], dtype=float32)"
      ]
     },
     "execution_count": 16,
     "metadata": {},
     "output_type": "execute_result"
    }
   ],
   "source": [
    "X_test[1]"
   ]
  },
  {
   "cell_type": "code",
   "execution_count": 17,
   "id": "6a948528",
   "metadata": {},
   "outputs": [
    {
     "data": {
      "text/plain": [
       "0.0015216490719467402"
      ]
     },
     "execution_count": 17,
     "metadata": {},
     "output_type": "execute_result"
    }
   ],
   "source": [
    "history"
   ]
  },
  {
   "cell_type": "code",
   "execution_count": 18,
   "id": "b0b13a2b",
   "metadata": {},
   "outputs": [
    {
     "data": {
      "text/plain": [
       "array([0.   , 0.02 , 0.005, 0.005, 0.006, 0.007, 0.005, 0.003, 0.   ,\n",
       "       0.004], dtype=float32)"
      ]
     },
     "execution_count": 18,
     "metadata": {},
     "output_type": "execute_result"
    }
   ],
   "source": [
    "y_test"
   ]
  },
  {
   "cell_type": "code",
   "execution_count": 19,
   "id": "8d3393e4",
   "metadata": {},
   "outputs": [
    {
     "name": "stdout",
     "output_type": "stream",
     "text": [
      "1/1 [==============================] - 0s 13ms/step\n",
      "MSE: 0.00152165\n"
     ]
    }
   ],
   "source": [
    "import numpy as np\n",
    "from sklearn.metrics import mean_squared_error\n",
    "\n",
    "# assume model and test set data are already defined\n",
    "\n",
    "# predict output on test set\n",
    "y_pred = model.predict(X_test)\n",
    "\n",
    "# calculate MSE\n",
    "mse = mean_squared_error(y_test, y_pred)\n",
    "\n",
    "# print the result\n",
    "print(\"MSE:\", mse)"
   ]
  },
  {
   "cell_type": "code",
   "execution_count": null,
   "id": "124a23e2",
   "metadata": {},
   "outputs": [],
   "source": []
  },
  {
   "cell_type": "code",
   "execution_count": null,
   "id": "5d8440f3",
   "metadata": {},
   "outputs": [],
   "source": []
  }
 ],
 "metadata": {
  "kernelspec": {
   "display_name": "Python 3 (ipykernel)",
   "language": "python",
   "name": "python3"
  },
  "language_info": {
   "codemirror_mode": {
    "name": "ipython",
    "version": 3
   },
   "file_extension": ".py",
   "mimetype": "text/x-python",
   "name": "python",
   "nbconvert_exporter": "python",
   "pygments_lexer": "ipython3",
   "version": "3.9.12"
  }
 },
 "nbformat": 4,
 "nbformat_minor": 5
}
